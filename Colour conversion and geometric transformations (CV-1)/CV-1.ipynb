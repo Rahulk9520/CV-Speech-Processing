{
 "cells": [
  {
   "cell_type": "markdown",
   "id": "abc60170",
   "metadata": {},
   "source": [
    "# Colour conversion and geometric transformations"
   ]
  },
  {
   "cell_type": "code",
   "execution_count": 1,
   "id": "e603a223",
   "metadata": {},
   "outputs": [],
   "source": [
    "# Importing libraries, packages and the image file\n",
    "import numpy as np\n",
    "import cv2 as cv\n",
    "img = cv.imread('D:\\Deakin University (Applied AI (Professional)\\SIT789 (Applications of Computer Vision and Speech Processing)\\Tasks & Assignments\\Task-1.1P\\Resources_1.1\\img1.jpg')\n"
   ]
  },
  {
   "cell_type": "markdown",
   "id": "ab45310b",
   "metadata": {},
   "source": [
    "## Colour Conversion ##"
   ]
  },
  {
   "cell_type": "code",
   "execution_count": 2,
   "id": "c4cd4b03",
   "metadata": {},
   "outputs": [],
   "source": [
    "# converting BGR img into HSV space\n",
    "img_hsv = cv.cvtColor(img, cv.COLOR_BGR2HSV)\n",
    "cv.imshow('image in HSV', img_hsv)\n",
    "cv.waitKey(0)\n",
    "cv.destroyAllWindows()"
   ]
  },
  {
   "cell_type": "code",
   "execution_count": 3,
   "id": "3a28508d",
   "metadata": {},
   "outputs": [
    {
     "data": {
      "text/plain": [
       "True"
      ]
     },
     "execution_count": 3,
     "metadata": {},
     "output_type": "execute_result"
    }
   ],
   "source": [
    "cv.imwrite('img_hsv.png', img_hsv)"
   ]
  },
  {
   "cell_type": "code",
   "execution_count": 4,
   "id": "40eaec8e",
   "metadata": {},
   "outputs": [],
   "source": [
    "# convert BGR img into gray image\n",
    "img_gray = cv.cvtColor(img, cv.COLOR_BGR2GRAY)\n",
    "cv.imshow('image in gray', img_gray)\n",
    "cv.waitKey(0)\n",
    "cv.destroyAllWindows()"
   ]
  },
  {
   "cell_type": "code",
   "execution_count": 5,
   "id": "9ac7af12",
   "metadata": {},
   "outputs": [
    {
     "data": {
      "text/plain": [
       "True"
      ]
     },
     "execution_count": 5,
     "metadata": {},
     "output_type": "execute_result"
    }
   ],
   "source": [
    "cv.imwrite('img_gray.png', img_gray)"
   ]
  },
  {
   "cell_type": "markdown",
   "id": "efad132f",
   "metadata": {},
   "source": [
    "# Geometric Transformations #\n",
    "\n",
    "## Scaling ##"
   ]
  },
  {
   "cell_type": "code",
   "execution_count": 6,
   "id": "cc48b63d",
   "metadata": {},
   "outputs": [],
   "source": [
    "# Scaling the Image\n",
    "height, width = img.shape[:2]\n",
    "h_scale = 0.5\n",
    "v_scale = 0.4\n",
    "new_height = (int) (height * v_scale) # we need this as the new height must be interger\n",
    "new_width = (int) (width * h_scale) # we need this as the new width must be interger\n",
    "img_resize = cv.resize(img, (new_width, new_height), interpolation = cv.INTER_LINEAR)\n",
    "cv.imshow('resize', img_resize)\n",
    "cv.waitKey(0)\n",
    "cv.destroyAllWindows()"
   ]
  },
  {
   "cell_type": "code",
   "execution_count": 7,
   "id": "0d171889",
   "metadata": {},
   "outputs": [
    {
     "data": {
      "text/plain": [
       "True"
      ]
     },
     "execution_count": 7,
     "metadata": {},
     "output_type": "execute_result"
    }
   ],
   "source": [
    "cv.imwrite('img_resize.png', img_resize)"
   ]
  },
  {
   "cell_type": "markdown",
   "id": "f66d67ac",
   "metadata": {},
   "source": [
    "## Translation ##"
   ]
  },
  {
   "cell_type": "markdown",
   "id": "e0dc330a",
   "metadata": {},
   "source": [
    "**Translation transformation shifts an image to a new location determined by a translation vector.**"
   ]
  },
  {
   "cell_type": "markdown",
   "id": "41966ad6",
   "metadata": {},
   "source": [
    "**We first need to determine the translation vector t=[t.x,t.y]**"
   ]
  },
  {
   "cell_type": "code",
   "execution_count": 8,
   "id": "4ca5dc3a",
   "metadata": {},
   "outputs": [],
   "source": [
    "# Translation transformation of the Image\n",
    "# Determining the translation vector t=[t.x,t.y]\n",
    "t_x = 100\n",
    "t_y = 200"
   ]
  },
  {
   "cell_type": "code",
   "execution_count": 9,
   "id": "83b7a32a",
   "metadata": {},
   "outputs": [],
   "source": [
    "# Defining a transformation matrix 𝑀\n",
    "M = np.float32([[1, 0, t_x], [0, 1, t_y]])"
   ]
  },
  {
   "cell_type": "code",
   "execution_count": 10,
   "id": "6f0e77b6",
   "metadata": {},
   "outputs": [],
   "source": [
    "# Making sure that the translated image will have the same dimension with the original image\n",
    "height, width = img.shape[:2] #this will get the number of rows and columns in img\n",
    "img_translation = cv.warpAffine(img, M, (width, height))\n",
    "cv.imshow('translation', img_translation)\n",
    "cv.waitKey(0)\n",
    "cv.destroyAllWindows()"
   ]
  },
  {
   "cell_type": "code",
   "execution_count": 11,
   "id": "818d2e95",
   "metadata": {},
   "outputs": [
    {
     "data": {
      "text/plain": [
       "True"
      ]
     },
     "execution_count": 11,
     "metadata": {},
     "output_type": "execute_result"
    }
   ],
   "source": [
    "cv.imwrite('img_translation.png', img_translation)"
   ]
  },
  {
   "cell_type": "markdown",
   "id": "56ee28ba",
   "metadata": {},
   "source": [
    "## Rotation ##"
   ]
  },
  {
   "cell_type": "code",
   "execution_count": 12,
   "id": "aa750cc9",
   "metadata": {},
   "outputs": [],
   "source": [
    "# Rotating the image img 45 degrees in anti-clockwise\n",
    "theta = 45 #rotate 45 degrees in anti-clockwise"
   ]
  },
  {
   "cell_type": "code",
   "execution_count": 13,
   "id": "19afb032",
   "metadata": {},
   "outputs": [
    {
     "name": "stdout",
     "output_type": "stream",
     "text": [
      "(959.5, 599.5)\n"
     ]
    }
   ],
   "source": [
    "# Rotating img around its centre c\n",
    "c_x = (width - 1) / 2.0 # column index varies in [0, width-1]\n",
    "c_y = (height - 1) / 2.0 # row index varies in [0, height-1]\n",
    "c = (c_x, c_y) # A point is defined by x and y coordinate\n",
    "print(c)"
   ]
  },
  {
   "cell_type": "code",
   "execution_count": 14,
   "id": "89a8ae59",
   "metadata": {},
   "outputs": [],
   "source": [
    "# Scale s is set to 1, the matrix M is finally calculated using 'cv.getRotationMatrix2D'\n",
    "s = 1\n",
    "M = cv.getRotationMatrix2D(c, theta, s)"
   ]
  },
  {
   "cell_type": "code",
   "execution_count": 15,
   "id": "edc6769f",
   "metadata": {},
   "outputs": [],
   "source": [
    "# Image Rotation\n",
    "img_rotation = cv.warpAffine(img, M, (width, height))\n",
    "cv.imshow('rotation', img_rotation)\n",
    "cv.waitKey(0)\n",
    "cv.destroyAllWindows()"
   ]
  },
  {
   "cell_type": "code",
   "execution_count": 16,
   "id": "76f6b499",
   "metadata": {},
   "outputs": [
    {
     "data": {
      "text/plain": [
       "True"
      ]
     },
     "execution_count": 16,
     "metadata": {},
     "output_type": "execute_result"
    }
   ],
   "source": [
    "cv.imwrite('img_rotation.png', img_rotation)"
   ]
  },
  {
   "cell_type": "markdown",
   "id": "4902b2ba",
   "metadata": {},
   "source": [
    "## Affine ##"
   ]
  },
  {
   "cell_type": "code",
   "execution_count": 17,
   "id": "6767d3bf",
   "metadata": {},
   "outputs": [],
   "source": [
    "# Defining Affine Matrix\n",
    "m00 = 0.38\n",
    "m01 = 0.27\n",
    "m02 = -47.18\n",
    "m10 = -0.14\n",
    "m11 = 0.75\n",
    "m12 = 564.32\n",
    "\n",
    "M = np.float32([[m00, m01, m02], [m10, m11, m12]])"
   ]
  },
  {
   "cell_type": "code",
   "execution_count": 18,
   "id": "f072d6f1",
   "metadata": {},
   "outputs": [],
   "source": [
    "# applying 'cv.warpAffine' with M\n",
    "height, width = img.shape[:2]\n",
    "img_affine = cv.warpAffine(img, M, (width, height))\n",
    "cv.imshow('affine', img_affine)\n",
    "cv.waitKey(0)\n",
    "cv.destroyAllWindows()"
   ]
  },
  {
   "cell_type": "code",
   "execution_count": 19,
   "id": "a62388f6",
   "metadata": {},
   "outputs": [
    {
     "data": {
      "text/plain": [
       "True"
      ]
     },
     "execution_count": 19,
     "metadata": {},
     "output_type": "execute_result"
    }
   ],
   "source": [
    "cv.imwrite('img_affine.png', img_affine)"
   ]
  },
  {
   "cell_type": "code",
   "execution_count": 20,
   "id": "b9e4c7f7",
   "metadata": {},
   "outputs": [],
   "source": [
    "# using 'cv.warpAffine' to replace 'cv.resize'\n",
    "M = np.float32([[h_scale, 0, 0], [0, v_scale, 0]])"
   ]
  },
  {
   "cell_type": "code",
   "execution_count": 21,
   "id": "5877b8c4",
   "metadata": {},
   "outputs": [],
   "source": [
    "img_scaling = cv.warpAffine(img, M, (width, height))\n",
    "cv.imshow('Scaling using warpAffine', img_scaling)\n",
    "cv.waitKey(0)\n",
    "cv.destroyAllWindows()"
   ]
  },
  {
   "cell_type": "code",
   "execution_count": 22,
   "id": "f63da31f",
   "metadata": {},
   "outputs": [
    {
     "data": {
      "text/plain": [
       "True"
      ]
     },
     "execution_count": 22,
     "metadata": {},
     "output_type": "execute_result"
    }
   ],
   "source": [
    "cv.imwrite('img_scale11.png', img_scaling)"
   ]
  }
 ],
 "metadata": {
  "kernelspec": {
   "display_name": "Python 3",
   "language": "python",
   "name": "python3"
  },
  "language_info": {
   "codemirror_mode": {
    "name": "ipython",
    "version": 3
   },
   "file_extension": ".py",
   "mimetype": "text/x-python",
   "name": "python",
   "nbconvert_exporter": "python",
   "pygments_lexer": "ipython3",
   "version": "3.8.8"
  }
 },
 "nbformat": 4,
 "nbformat_minor": 5
}
