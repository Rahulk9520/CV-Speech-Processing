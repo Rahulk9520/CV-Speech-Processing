{
 "cells": [
  {
   "cell_type": "markdown",
   "id": "1d3613b1",
   "metadata": {},
   "source": [
    "# Speech recognition with IBM Watson\n",
    "\n",
    "**Objectives:**\n",
    "* Getting hands-on experience with speech-to-text service developed by IBM Watson\n",
    "* Building a speech recognition application using Watson's API"
   ]
  },
  {
   "cell_type": "markdown",
   "id": "e02fec13",
   "metadata": {},
   "source": [
    "## Speech recognition using Speech to Text API"
   ]
  },
  {
   "cell_type": "code",
   "execution_count": 3,
   "id": "0abc6846",
   "metadata": {},
   "outputs": [],
   "source": [
    "from ibm_watson import SpeechToTextV1\n",
    "from ibm_cloud_sdk_core.authenticators import IAMAuthenticator"
   ]
  },
  {
   "cell_type": "code",
   "execution_count": 4,
   "id": "85c02cb6",
   "metadata": {},
   "outputs": [],
   "source": [
    "authenticator = IAMAuthenticator('ZfiRn03spxhO6XfCDKVXnGMeTmAden8wFbNGx_5P8eki') #replace {APIkey} by your API key\n",
    "speech_to_text = SpeechToTextV1(authenticator=authenticator)\n",
    "speech_to_text.set_service_url('https://api.eu-gb.speech-to-text.watson.cloud.ibm.com/instances/22432170-bcfc-4a08-8e41-ae7de1da6b17') #replace {url} by your URL"
   ]
  },
  {
   "cell_type": "markdown",
   "id": "e153a56e",
   "metadata": {},
   "source": [
    "### We can test the Speech to Text service with a speech clip, e.g., arctic_a0005.wav, as follows:"
   ]
  },
  {
   "cell_type": "code",
   "execution_count": 5,
   "id": "11fbb87d",
   "metadata": {},
   "outputs": [
    {
     "name": "stdout",
     "output_type": "stream",
     "text": [
      "{\n",
      "  \"result_index\": 0,\n",
      "  \"results\": [\n",
      "    {\n",
      "      \"final\": true,\n",
      "      \"alternatives\": [\n",
      "        {\n",
      "          \"transcript\": \"will we ever forget it \",\n",
      "          \"confidence\": 0.95\n",
      "        }\n",
      "      ]\n",
      "    }\n",
      "  ]\n",
      "}\n"
     ]
    }
   ],
   "source": [
    "import json\n",
    "\n",
    "with open('SpeechtoTextData/arctic_a0005.wav', 'rb') as audio_file:\n",
    "    speech_recognition_results = speech_to_text.recognize(\n",
    "        audio = audio_file,\n",
    "        content_type='audio/wav').get_result()\n",
    "    \n",
    "print(json.dumps(speech_recognition_results, indent = 2))"
   ]
  },
  {
   "cell_type": "markdown",
   "id": "d0303379",
   "metadata": {},
   "source": [
    "### The speech recognition result can be saved to file (in json format) using the command:"
   ]
  },
  {
   "cell_type": "code",
   "execution_count": 6,
   "id": "6d47173b",
   "metadata": {},
   "outputs": [],
   "source": [
    "with open('SpeechtoTextData/arctic_a0005.json', 'w') as outfile:\n",
    "    json.dump(speech_recognition_results, outfile)"
   ]
  },
  {
   "cell_type": "markdown",
   "id": "f7005fdc",
   "metadata": {},
   "source": [
    "### To load the result from file, we can use the following code:"
   ]
  },
  {
   "cell_type": "code",
   "execution_count": 7,
   "id": "23bb4ddc",
   "metadata": {},
   "outputs": [
    {
     "name": "stdout",
     "output_type": "stream",
     "text": [
      "{'result_index': 0, 'results': [{'final': True, 'alternatives': [{'transcript': 'will we ever forget it ', 'confidence': 0.95}]}]}\n"
     ]
    }
   ],
   "source": [
    "with open('SpeechtoTextData/arctic_a0005.json') as infile:\n",
    "    data = json.load(infile) # load data from a json file\n",
    "    \n",
    "print(data)"
   ]
  },
  {
   "cell_type": "markdown",
   "id": "fd4d2eb6",
   "metadata": {},
   "source": [
    "### (a). Using speech clip- \"367-130732-0000\": "
   ]
  },
  {
   "cell_type": "code",
   "execution_count": 8,
   "id": "baea9f9d",
   "metadata": {},
   "outputs": [
    {
     "name": "stdout",
     "output_type": "stream",
     "text": [
      "{\n",
      "  \"result_index\": 0,\n",
      "  \"results\": [\n",
      "    {\n",
      "      \"final\": true,\n",
      "      \"alternatives\": [\n",
      "        {\n",
      "          \"transcript\": \"lobsters and law officers \",\n",
      "          \"confidence\": 0.74\n",
      "        }\n",
      "      ]\n",
      "    }\n",
      "  ]\n",
      "}\n"
     ]
    }
   ],
   "source": [
    "with open('SpeechtoTextData/367-130732-0000.flac', 'rb') as audio_file:\n",
    "    speech_recognition_results = speech_to_text.recognize(\n",
    "        audio = audio_file,\n",
    "        content_type='audio/flac').get_result()\n",
    "    \n",
    "print(json.dumps(speech_recognition_results, indent = 2))"
   ]
  },
  {
   "cell_type": "code",
   "execution_count": 9,
   "id": "e192f30a",
   "metadata": {},
   "outputs": [],
   "source": [
    "with open('SpeechtoTextData/367-130732-0000.json', 'w') as outfile:\n",
    "    json.dump(speech_recognition_results, outfile)"
   ]
  },
  {
   "cell_type": "code",
   "execution_count": 10,
   "id": "c3739678",
   "metadata": {},
   "outputs": [
    {
     "name": "stdout",
     "output_type": "stream",
     "text": [
      "{'result_index': 0, 'results': [{'final': True, 'alternatives': [{'transcript': 'lobsters and law officers ', 'confidence': 0.74}]}]}\n"
     ]
    }
   ],
   "source": [
    "with open('SpeechtoTextData/367-130732-0000.json') as infile:\n",
    "    data = json.load(infile) # load data from a json file\n",
    "    \n",
    "print(data)"
   ]
  },
  {
   "cell_type": "markdown",
   "id": "45948ab7",
   "metadata": {},
   "source": [
    "### (b). Using speech clip- \"367-130732-0001\": "
   ]
  },
  {
   "cell_type": "code",
   "execution_count": 11,
   "id": "75eae97a",
   "metadata": {},
   "outputs": [
    {
     "name": "stdout",
     "output_type": "stream",
     "text": [
      "{\n",
      "  \"result_index\": 0,\n",
      "  \"results\": [\n",
      "    {\n",
      "      \"final\": true,\n",
      "      \"alternatives\": [\n",
      "        {\n",
      "          \"transcript\": \"when is a lobster not a lobster when it is a crayfish \",\n",
      "          \"confidence\": 0.87\n",
      "        }\n",
      "      ]\n",
      "    }\n",
      "  ]\n",
      "}\n"
     ]
    }
   ],
   "source": [
    "with open('SpeechtoTextData/367-130732-0001.flac', 'rb') as audio_file:\n",
    "    speech_recognition_results = speech_to_text.recognize(\n",
    "        audio = audio_file,\n",
    "        content_type='audio/flac').get_result()\n",
    "    \n",
    "print(json.dumps(speech_recognition_results, indent = 2))"
   ]
  },
  {
   "cell_type": "code",
   "execution_count": 12,
   "id": "a14c5d8e",
   "metadata": {},
   "outputs": [],
   "source": [
    "with open('SpeechtoTextData/367-130732-0001.json', 'w') as outfile:\n",
    "    json.dump(speech_recognition_results, outfile)"
   ]
  },
  {
   "cell_type": "code",
   "execution_count": 13,
   "id": "b48320cf",
   "metadata": {},
   "outputs": [
    {
     "name": "stdout",
     "output_type": "stream",
     "text": [
      "{'result_index': 0, 'results': [{'final': True, 'alternatives': [{'transcript': 'when is a lobster not a lobster when it is a crayfish ', 'confidence': 0.87}]}]}\n"
     ]
    }
   ],
   "source": [
    "with open('SpeechtoTextData/367-130732-0001.json') as infile:\n",
    "    data = json.load(infile) # load data from a json file\n",
    "    \n",
    "print(data)"
   ]
  },
  {
   "cell_type": "markdown",
   "id": "6013f947",
   "metadata": {},
   "source": [
    "### (c). Using speech clip- \"367-130732-0004\": "
   ]
  },
  {
   "cell_type": "code",
   "execution_count": 14,
   "id": "d434fa06",
   "metadata": {},
   "outputs": [
    {
     "name": "stdout",
     "output_type": "stream",
     "text": [
      "{\n",
      "  \"result_index\": 0,\n",
      "  \"results\": [\n",
      "    {\n",
      "      \"final\": true,\n",
      "      \"alternatives\": [\n",
      "        {\n",
      "          \"transcript\": \"a book could be written about this restaurant and then all would not be told for all its secrets can never be known \",\n",
      "          \"confidence\": 0.92\n",
      "        }\n",
      "      ]\n",
      "    }\n",
      "  ]\n",
      "}\n"
     ]
    }
   ],
   "source": [
    "with open('SpeechtoTextData/367-130732-0004.flac', 'rb') as audio_file:\n",
    "    speech_recognition_results = speech_to_text.recognize(\n",
    "        audio = audio_file,\n",
    "        content_type='audio/flac').get_result()\n",
    "    \n",
    "print(json.dumps(speech_recognition_results, indent = 2))"
   ]
  },
  {
   "cell_type": "code",
   "execution_count": 15,
   "id": "1c217a55",
   "metadata": {},
   "outputs": [],
   "source": [
    "with open('SpeechtoTextData/367-130732-0004.json', 'w') as outfile:\n",
    "    json.dump(speech_recognition_results, outfile)"
   ]
  },
  {
   "cell_type": "code",
   "execution_count": 16,
   "id": "6f3ccd09",
   "metadata": {},
   "outputs": [
    {
     "name": "stdout",
     "output_type": "stream",
     "text": [
      "{'result_index': 0, 'results': [{'final': True, 'alternatives': [{'transcript': 'a book could be written about this restaurant and then all would not be told for all its secrets can never be known ', 'confidence': 0.92}]}]}\n"
     ]
    }
   ],
   "source": [
    "with open('SpeechtoTextData/367-130732-0004.json') as infile:\n",
    "    data = json.load(infile) # load data from a json file\n",
    "    \n",
    "print(data)"
   ]
  },
  {
   "cell_type": "markdown",
   "id": "07f29b26",
   "metadata": {},
   "source": [
    "### (d). Using speech clip- \"arctic_a0001\": "
   ]
  },
  {
   "cell_type": "code",
   "execution_count": 17,
   "id": "c22c7618",
   "metadata": {},
   "outputs": [
    {
     "name": "stdout",
     "output_type": "stream",
     "text": [
      "{\n",
      "  \"result_index\": 0,\n",
      "  \"results\": [\n",
      "    {\n",
      "      \"final\": true,\n",
      "      \"alternatives\": [\n",
      "        {\n",
      "          \"transcript\": \"author of the danger trail Phillips steals etcetera \",\n",
      "          \"confidence\": 0.78\n",
      "        }\n",
      "      ]\n",
      "    }\n",
      "  ]\n",
      "}\n"
     ]
    }
   ],
   "source": [
    "with open('SpeechtoTextData/arctic_a0001.wav', 'rb') as audio_file:\n",
    "    speech_recognition_results = speech_to_text.recognize(\n",
    "        audio = audio_file,\n",
    "        content_type='audio/wav').get_result()\n",
    "    \n",
    "print(json.dumps(speech_recognition_results, indent = 2))"
   ]
  },
  {
   "cell_type": "code",
   "execution_count": 18,
   "id": "f12f820d",
   "metadata": {},
   "outputs": [],
   "source": [
    "with open('SpeechtoTextData/arctic_a0001.json', 'w') as outfile:\n",
    "    json.dump(speech_recognition_results, outfile)"
   ]
  },
  {
   "cell_type": "code",
   "execution_count": 19,
   "id": "f3375dc3",
   "metadata": {},
   "outputs": [
    {
     "name": "stdout",
     "output_type": "stream",
     "text": [
      "{'result_index': 0, 'results': [{'final': True, 'alternatives': [{'transcript': 'author of the danger trail Phillips steals etcetera ', 'confidence': 0.78}]}]}\n"
     ]
    }
   ],
   "source": [
    "with open('SpeechtoTextData/arctic_a0001.json') as infile:\n",
    "    data = json.load(infile) # load data from a json file\n",
    "    \n",
    "print(data)"
   ]
  },
  {
   "cell_type": "markdown",
   "id": "8b90ac85",
   "metadata": {},
   "source": [
    "### (e). Using speech clip- \"arctic_a0003\": "
   ]
  },
  {
   "cell_type": "code",
   "execution_count": 20,
   "id": "002aa9c8",
   "metadata": {},
   "outputs": [
    {
     "name": "stdout",
     "output_type": "stream",
     "text": [
      "{\n",
      "  \"result_index\": 0,\n",
      "  \"results\": [\n",
      "    {\n",
      "      \"final\": true,\n",
      "      \"alternatives\": [\n",
      "        {\n",
      "          \"transcript\": \"for the twentieth time that evening the two men shook hands \",\n",
      "          \"confidence\": 0.86\n",
      "        }\n",
      "      ]\n",
      "    }\n",
      "  ]\n",
      "}\n"
     ]
    }
   ],
   "source": [
    "with open('SpeechtoTextData/arctic_a0003.wav', 'rb') as audio_file:\n",
    "    speech_recognition_results = speech_to_text.recognize(\n",
    "        audio = audio_file,\n",
    "        content_type='audio/wav').get_result()\n",
    "    \n",
    "print(json.dumps(speech_recognition_results, indent = 2))"
   ]
  },
  {
   "cell_type": "code",
   "execution_count": 21,
   "id": "b5f60704",
   "metadata": {},
   "outputs": [],
   "source": [
    "with open('SpeechtoTextData/arctic_a0003.json', 'w') as outfile:\n",
    "    json.dump(speech_recognition_results, outfile)"
   ]
  },
  {
   "cell_type": "code",
   "execution_count": 22,
   "id": "7d701ba9",
   "metadata": {},
   "outputs": [
    {
     "name": "stdout",
     "output_type": "stream",
     "text": [
      "{'result_index': 0, 'results': [{'final': True, 'alternatives': [{'transcript': 'for the twentieth time that evening the two men shook hands ', 'confidence': 0.86}]}]}\n"
     ]
    }
   ],
   "source": [
    "with open('SpeechtoTextData/arctic_a0003.json') as infile:\n",
    "    data = json.load(infile) # load data from a json file\n",
    "    \n",
    "print(data)"
   ]
  },
  {
   "cell_type": "markdown",
   "id": "343cde36",
   "metadata": {},
   "source": [
    "### (f). Using speech clip- \"p232_009\": "
   ]
  },
  {
   "cell_type": "code",
   "execution_count": 23,
   "id": "c81fd92e",
   "metadata": {},
   "outputs": [
    {
     "name": "stdout",
     "output_type": "stream",
     "text": [
      "{\n",
      "  \"result_index\": 0,\n",
      "  \"results\": [\n",
      "    {\n",
      "      \"final\": true,\n",
      "      \"alternatives\": [\n",
      "        {\n",
      "          \"transcript\": \"there is according to legend a boiling pot of gold at one end \",\n",
      "          \"confidence\": 0.98\n",
      "        }\n",
      "      ]\n",
      "    }\n",
      "  ]\n",
      "}\n"
     ]
    }
   ],
   "source": [
    "with open('SpeechtoTextData/p232_009.wav', 'rb') as audio_file:\n",
    "    speech_recognition_results = speech_to_text.recognize(\n",
    "        audio = audio_file,\n",
    "        content_type='audio/wav').get_result()\n",
    "    \n",
    "print(json.dumps(speech_recognition_results, indent = 2))"
   ]
  },
  {
   "cell_type": "code",
   "execution_count": 24,
   "id": "3b1fe883",
   "metadata": {},
   "outputs": [],
   "source": [
    "with open('SpeechtoTextData/p232_009.json', 'w') as outfile:\n",
    "    json.dump(speech_recognition_results, outfile)"
   ]
  },
  {
   "cell_type": "code",
   "execution_count": 25,
   "id": "a78419b5",
   "metadata": {},
   "outputs": [
    {
     "name": "stdout",
     "output_type": "stream",
     "text": [
      "{'result_index': 0, 'results': [{'final': True, 'alternatives': [{'transcript': 'there is according to legend a boiling pot of gold at one end ', 'confidence': 0.98}]}]}\n"
     ]
    }
   ],
   "source": [
    "with open('SpeechtoTextData/p232_009.json') as infile:\n",
    "    data = json.load(infile) # load data from a json file\n",
    "    \n",
    "print(data)"
   ]
  },
  {
   "cell_type": "markdown",
   "id": "e9a96eff",
   "metadata": {},
   "source": [
    "### (g). Using speech clip- \"p232_010\": "
   ]
  },
  {
   "cell_type": "code",
   "execution_count": 26,
   "id": "a0bafa1e",
   "metadata": {},
   "outputs": [
    {
     "name": "stdout",
     "output_type": "stream",
     "text": [
      "{\n",
      "  \"result_index\": 0,\n",
      "  \"results\": [\n",
      "    {\n",
      "      \"final\": true,\n",
      "      \"alternatives\": [\n",
      "        {\n",
      "          \"transcript\": \"no one ever finds \",\n",
      "          \"confidence\": 0.19\n",
      "        }\n",
      "      ]\n",
      "    }\n",
      "  ]\n",
      "}\n"
     ]
    }
   ],
   "source": [
    "with open('SpeechtoTextData/p232_010.wav', 'rb') as audio_file:\n",
    "    speech_recognition_results = speech_to_text.recognize(\n",
    "        audio = audio_file,\n",
    "        content_type='audio/wav').get_result()\n",
    "    \n",
    "print(json.dumps(speech_recognition_results, indent = 2))"
   ]
  },
  {
   "cell_type": "code",
   "execution_count": 27,
   "id": "7e159209",
   "metadata": {},
   "outputs": [],
   "source": [
    "with open('SpeechtoTextData/p232_010.json', 'w') as outfile:\n",
    "    json.dump(speech_recognition_results, outfile)"
   ]
  },
  {
   "cell_type": "code",
   "execution_count": 28,
   "id": "af00524f",
   "metadata": {},
   "outputs": [
    {
     "name": "stdout",
     "output_type": "stream",
     "text": [
      "{'result_index': 0, 'results': [{'final': True, 'alternatives': [{'transcript': 'no one ever finds ', 'confidence': 0.19}]}]}\n"
     ]
    }
   ],
   "source": [
    "with open('SpeechtoTextData/p232_010.json') as infile:\n",
    "    data = json.load(infile) # load data from a json file\n",
    "    \n",
    "print(data)"
   ]
  },
  {
   "cell_type": "markdown",
   "id": "8f2aeb9d",
   "metadata": {},
   "source": [
    "### (h). Using speech clip- \"p232_014\": "
   ]
  },
  {
   "cell_type": "code",
   "execution_count": 29,
   "id": "0a76cae0",
   "metadata": {},
   "outputs": [
    {
     "name": "stdout",
     "output_type": "stream",
     "text": [
      "{\n",
      "  \"result_index\": 0,\n",
      "  \"results\": [\n",
      "    {\n",
      "      \"final\": true,\n",
      "      \"alternatives\": [\n",
      "        {\n",
      "          \"transcript\": \"the Hebrews it was a token that there would be no more universal floods \",\n",
      "          \"confidence\": 0.92\n",
      "        }\n",
      "      ]\n",
      "    }\n",
      "  ]\n",
      "}\n"
     ]
    }
   ],
   "source": [
    "with open('SpeechtoTextData/p232_014.wav', 'rb') as audio_file:\n",
    "    speech_recognition_results = speech_to_text.recognize(\n",
    "        audio = audio_file,\n",
    "        content_type='audio/wav').get_result()\n",
    "    \n",
    "print(json.dumps(speech_recognition_results, indent = 2))"
   ]
  },
  {
   "cell_type": "code",
   "execution_count": 30,
   "id": "c8f5262f",
   "metadata": {},
   "outputs": [],
   "source": [
    "with open('SpeechtoTextData/p232_014.json', 'w') as outfile:\n",
    "    json.dump(speech_recognition_results, outfile)"
   ]
  },
  {
   "cell_type": "code",
   "execution_count": 31,
   "id": "a8710e84",
   "metadata": {},
   "outputs": [
    {
     "name": "stdout",
     "output_type": "stream",
     "text": [
      "{'result_index': 0, 'results': [{'final': True, 'alternatives': [{'transcript': 'the Hebrews it was a token that there would be no more universal floods ', 'confidence': 0.92}]}]}\n"
     ]
    }
   ],
   "source": [
    "with open('SpeechtoTextData/p232_014.json') as infile:\n",
    "    data = json.load(infile) # load data from a json file\n",
    "    \n",
    "print(data)"
   ]
  },
  {
   "cell_type": "markdown",
   "id": "e425ad7f",
   "metadata": {},
   "source": [
    "### (i). Using speech clip- \"p232_030\": "
   ]
  },
  {
   "cell_type": "code",
   "execution_count": 32,
   "id": "4846d74f",
   "metadata": {},
   "outputs": [
    {
     "name": "stdout",
     "output_type": "stream",
     "text": [
      "{\n",
      "  \"result_index\": 0,\n",
      "  \"results\": [\n",
      "    {\n",
      "      \"final\": true,\n",
      "      \"alternatives\": [\n",
      "        {\n",
      "          \"transcript\": \"they were described as being in a serious but stable condition yesterday \",\n",
      "          \"confidence\": 0.94\n",
      "        }\n",
      "      ]\n",
      "    }\n",
      "  ]\n",
      "}\n"
     ]
    }
   ],
   "source": [
    "with open('SpeechtoTextData/p232_030.wav', 'rb') as audio_file:\n",
    "    speech_recognition_results = speech_to_text.recognize(\n",
    "        audio = audio_file,\n",
    "        content_type='audio/wav').get_result()\n",
    "    \n",
    "print(json.dumps(speech_recognition_results, indent = 2))"
   ]
  },
  {
   "cell_type": "code",
   "execution_count": 33,
   "id": "cd5c35a3",
   "metadata": {},
   "outputs": [],
   "source": [
    "with open('SpeechtoTextData/p232_030.json', 'w') as outfile:\n",
    "    json.dump(speech_recognition_results, outfile)"
   ]
  },
  {
   "cell_type": "code",
   "execution_count": 34,
   "id": "1d95c137",
   "metadata": {},
   "outputs": [
    {
     "name": "stdout",
     "output_type": "stream",
     "text": [
      "{'result_index': 0, 'results': [{'final': True, 'alternatives': [{'transcript': 'they were described as being in a serious but stable condition yesterday ', 'confidence': 0.94}]}]}\n"
     ]
    }
   ],
   "source": [
    "with open('SpeechtoTextData/p232_030.json') as infile:\n",
    "    data = json.load(infile) # load data from a json file\n",
    "    \n",
    "print(data)"
   ]
  },
  {
   "cell_type": "markdown",
   "id": "b040534a",
   "metadata": {},
   "source": [
    "**Using IBM Watson's Speech to Text API service we have evaluated various speech clips of different audio formats ('wav' & 'flac') and found the confidence scores & transcriptions of the audio.**\n",
    "\n",
    "**We further saved it in Json File and loaded & printed the data.** "
   ]
  }
 ],
 "metadata": {
  "kernelspec": {
   "display_name": "Python 3",
   "language": "python",
   "name": "python3"
  },
  "language_info": {
   "codemirror_mode": {
    "name": "ipython",
    "version": 3
   },
   "file_extension": ".py",
   "mimetype": "text/x-python",
   "name": "python",
   "nbconvert_exporter": "python",
   "pygments_lexer": "ipython3",
   "version": "3.8.8"
  }
 },
 "nbformat": 4,
 "nbformat_minor": 5
}
