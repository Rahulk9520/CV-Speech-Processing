{
 "cells": [
  {
   "cell_type": "markdown",
   "id": "9746e2de",
   "metadata": {},
   "source": [
    "# Image Recognition "
   ]
  },
  {
   "cell_type": "markdown",
   "id": "4a69d3cf",
   "metadata": {},
   "source": [
    "**Objectives:**\n",
    "* Practising basic machine learning models including K-means, K-NN, SVM, and Adaboost using scit-learn\n",
    "* Practising Bag-of-Words model\n",
    "* Applying machine learning models for image recognition"
   ]
  },
  {
   "cell_type": "markdown",
   "id": "afcfd8a9",
   "metadata": {},
   "source": [
    "## 1. Bag-of-Words (BoW) model ##"
   ]
  },
  {
   "cell_type": "markdown",
   "id": "3e9bafe1",
   "metadata": {},
   "source": [
    "In FoodImages, there are two folders: Train and Test containing training and test images respectively. Each Train/Test folder contains three sub-folders corresponding to three different food types including Cakes, Pasta, and Pizza. For each food category, there are equal numbers of images (30 images) used for training and testing.\n",
    "We will build a BoW model for food image recognition based on the training images of the supplied food database. The Dictionary class below is developed to build BoW models using K-means algorithm, the 'learn' method where K-means is used and the create_word_histograms method which constructs word histograms for a given list of images. "
   ]
  },
  {
   "cell_type": "code",
   "execution_count": 1,
   "id": "d7d660d6",
   "metadata": {},
   "outputs": [],
   "source": [
    "import numpy as np\n",
    "import cv2 as cv\n",
    "from sklearn.cluster import KMeans\n",
    "\n",
    "class Dictionary(object):\n",
    "    def __init__(self, name, img_filenames, num_words):\n",
    "        self.name = name #name of your dictionary\n",
    "        self.img_filenames = img_filenames #list of image filenames\n",
    "        self.num_words = num_words #the number of words\n",
    "        \n",
    "        self.training_data = [] #this is the training data required by the K-Means algorithm\n",
    "        self.words = [] #list of words, which are the centroids of clusters\n",
    "        \n",
    "    def learn(self):\n",
    "        sift = cv.xfeatures2d.SIFT_create()\n",
    "            \n",
    "        num_keypoints = [] #this is used to store the number of keypoints in each image\n",
    "            \n",
    "        #load training images and compute SIFT descriptors\n",
    "        for filename in self.img_filenames:\n",
    "            img = cv.imread(filename)\n",
    "            img_gray = cv.cvtColor(img, cv.COLOR_BGR2GRAY)\n",
    "            list_des = sift.detectAndCompute(img_gray, None)[1]\n",
    "            if list_des is None:\n",
    "                num_keypoints.append(0)\n",
    "            else:\n",
    "                num_keypoints.append(len(list_des))\n",
    "                for des in list_des:\n",
    "                    self.training_data.append(des)\n",
    "                        \n",
    "            \n",
    "        #cluster SIFT descriptors using K-means algorithm\n",
    "        kmeans = KMeans(self.num_words)\n",
    "        kmeans.fit(self.training_data)\n",
    "        self.words = kmeans.cluster_centers_\n",
    "            \n",
    "        #create word histograms for training images\n",
    "        training_word_histograms = [] #list of word histograms of all training images\n",
    "        index = 0\n",
    "        for i in range(0, len(self.img_filenames)):\n",
    "            #for each file, create a histogram\n",
    "            histogram = np.zeros(self.num_words, np.float32)\n",
    "            #if some keypoints exist\n",
    "            if num_keypoints[i] > 0:\n",
    "                for j in range(0, num_keypoints[i]):\n",
    "                    histogram[kmeans.labels_[j + index]] += 1\n",
    "                index += num_keypoints[i]\n",
    "                histogram /= num_keypoints[i]\n",
    "                training_word_histograms.append(histogram)\n",
    "                    \n",
    "        return training_word_histograms\n",
    "        \n",
    "    def create_word_histograms(self, img_filenames):\n",
    "        sift = cv.xfeatures2d.SIFT_create()\n",
    "        histograms = []\n",
    "            \n",
    "        for filename in img_filenames:\n",
    "            img = cv.imread(filename)\n",
    "            img_gray = cv.cvtColor(img, cv.COLOR_BGR2GRAY)\n",
    "            descriptors = sift.detectAndCompute(img_gray, None)[1]\n",
    "                \n",
    "            histogram = np.zeros(self.num_words, np.float32) #word histogram for the input image\n",
    "                \n",
    "            if descriptors is not None:\n",
    "                for des in descriptors:\n",
    "                    #find the best matching word\n",
    "                    min_distance = 1111111 #this can be any large number\n",
    "                    matching_word_ID = -1 #initial matching_word_ID=-1 means no matching\n",
    "                        \n",
    "                    for i in range(0, self.num_words):  #search for the best matching word\n",
    "                        distance = np.linalg.norm(des - self.words[i])\n",
    "                        if distance < min_distance:\n",
    "                            min_distance = distance\n",
    "                            matching_word_ID = i\n",
    "                                \n",
    "                    histogram[matching_word_ID] += 1\n",
    "                        \n",
    "                histogram /= len(descriptors) #normalise histogram to frequencies\n",
    "                    \n",
    "            histograms.append(histogram)\n",
    "                \n",
    "        return histograms                   "
   ]
  },
  {
   "cell_type": "markdown",
   "id": "3abaa61f",
   "metadata": {},
   "source": [
    "Before building the BoW model for our food database, we need to prepare training data. The following code creates two lists:\n",
    "* training_file_names: containing the file names of all training images\n",
    "* training_food_labels: containing the food labels of all training images, e.g., Cakes have labels as 0, Pasta as 1, and Pizza as 2."
   ]
  },
  {
   "cell_type": "code",
   "execution_count": 2,
   "id": "214c6ef2",
   "metadata": {},
   "outputs": [
    {
     "name": "stdout",
     "output_type": "stream",
     "text": [
      "['FoodImages/Train/Cakes/cake1.png', 'FoodImages/Train/Cakes/cake10.jpg', 'FoodImages/Train/Cakes/cake11.jpg', 'FoodImages/Train/Cakes/cake12.jpg', 'FoodImages/Train/Cakes/cake13.jpg', 'FoodImages/Train/Cakes/cake14.jpg', 'FoodImages/Train/Cakes/cake15.jpg', 'FoodImages/Train/Cakes/cake16.jpg', 'FoodImages/Train/Cakes/cake17.jpg', 'FoodImages/Train/Cakes/cake18.jpg', 'FoodImages/Train/Cakes/cake19.jpg', 'FoodImages/Train/Cakes/cake2.png', 'FoodImages/Train/Cakes/cake20.jpg', 'FoodImages/Train/Cakes/cake21.jpg', 'FoodImages/Train/Cakes/cake22.jpg', 'FoodImages/Train/Cakes/cake23.jpg', 'FoodImages/Train/Cakes/cake24.jpg', 'FoodImages/Train/Cakes/cake25.jpg', 'FoodImages/Train/Cakes/cake26.jpg', 'FoodImages/Train/Cakes/cake27.jpg', 'FoodImages/Train/Cakes/cake28.jpg', 'FoodImages/Train/Cakes/cake29.jpg', 'FoodImages/Train/Cakes/cake3.png', 'FoodImages/Train/Cakes/cake30.jpg', 'FoodImages/Train/Cakes/cake4.jpg', 'FoodImages/Train/Cakes/cake5.jpg', 'FoodImages/Train/Cakes/cake6.jpg', 'FoodImages/Train/Cakes/cake7.jpg', 'FoodImages/Train/Cakes/cake8.jpg', 'FoodImages/Train/Cakes/cake9.jpg', 'FoodImages/Train/Pasta/pasta1.jpg', 'FoodImages/Train/Pasta/pasta10.jpg', 'FoodImages/Train/Pasta/pasta11.jpg', 'FoodImages/Train/Pasta/pasta12.jpg', 'FoodImages/Train/Pasta/pasta13.jpg', 'FoodImages/Train/Pasta/pasta14.jpg', 'FoodImages/Train/Pasta/pasta15.jpg', 'FoodImages/Train/Pasta/pasta16.jpg', 'FoodImages/Train/Pasta/pasta17.jpg', 'FoodImages/Train/Pasta/pasta18.jpg', 'FoodImages/Train/Pasta/pasta19.jpg', 'FoodImages/Train/Pasta/pasta2.jpg', 'FoodImages/Train/Pasta/pasta20.jpg', 'FoodImages/Train/Pasta/pasta21.png', 'FoodImages/Train/Pasta/pasta22.png', 'FoodImages/Train/Pasta/pasta23.png', 'FoodImages/Train/Pasta/pasta24.png', 'FoodImages/Train/Pasta/pasta25.png', 'FoodImages/Train/Pasta/pasta26.png', 'FoodImages/Train/Pasta/pasta27.png', 'FoodImages/Train/Pasta/pasta28.png', 'FoodImages/Train/Pasta/pasta29.jpg', 'FoodImages/Train/Pasta/pasta3.jpg', 'FoodImages/Train/Pasta/pasta30.jpg', 'FoodImages/Train/Pasta/pasta4.jpg', 'FoodImages/Train/Pasta/pasta5.jpg', 'FoodImages/Train/Pasta/pasta6.jpg', 'FoodImages/Train/Pasta/pasta7.jpg', 'FoodImages/Train/Pasta/pasta8.jpg', 'FoodImages/Train/Pasta/pasta9.jpg', 'FoodImages/Train/Pizza/pizza1.png', 'FoodImages/Train/Pizza/pizza10.jpg', 'FoodImages/Train/Pizza/pizza11.jpg', 'FoodImages/Train/Pizza/pizza12.jpg', 'FoodImages/Train/Pizza/pizza13.jpg', 'FoodImages/Train/Pizza/pizza14.jpg', 'FoodImages/Train/Pizza/pizza15.jpg', 'FoodImages/Train/Pizza/pizza16.jpg', 'FoodImages/Train/Pizza/pizza17.jpg', 'FoodImages/Train/Pizza/pizza18.jpg', 'FoodImages/Train/Pizza/pizza19.jpg', 'FoodImages/Train/Pizza/pizza2.jpg', 'FoodImages/Train/Pizza/pizza20.jpg', 'FoodImages/Train/Pizza/pizza21.jpg', 'FoodImages/Train/Pizza/pizza22.jpg', 'FoodImages/Train/Pizza/pizza23.jpg', 'FoodImages/Train/Pizza/pizza24.jpg', 'FoodImages/Train/Pizza/pizza25.jpg', 'FoodImages/Train/Pizza/pizza26.jpg', 'FoodImages/Train/Pizza/pizza27.jpg', 'FoodImages/Train/Pizza/pizza28.jpg', 'FoodImages/Train/Pizza/pizza29.jpg', 'FoodImages/Train/Pizza/pizza3.jpg', 'FoodImages/Train/Pizza/pizza30.jpg', 'FoodImages/Train/Pizza/pizza4.jpg', 'FoodImages/Train/Pizza/pizza5.jpg', 'FoodImages/Train/Pizza/pizza6.jpg', 'FoodImages/Train/Pizza/pizza7.jpg', 'FoodImages/Train/Pizza/pizza8.jpg', 'FoodImages/Train/Pizza/pizza9.jpg']\n",
      "[0, 0, 0, 0, 0, 0, 0, 0, 0, 0, 0, 0, 0, 0, 0, 0, 0, 0, 0, 0, 0, 0, 0, 0, 0, 0, 0, 0, 0, 0, 1, 1, 1, 1, 1, 1, 1, 1, 1, 1, 1, 1, 1, 1, 1, 1, 1, 1, 1, 1, 1, 1, 1, 1, 1, 1, 1, 1, 1, 1, 2, 2, 2, 2, 2, 2, 2, 2, 2, 2, 2, 2, 2, 2, 2, 2, 2, 2, 2, 2, 2, 2, 2, 2, 2, 2, 2, 2, 2, 2]\n"
     ]
    }
   ],
   "source": [
    "import os\n",
    "\n",
    "foods = ['Cakes', 'Pasta', 'Pizza']\n",
    "path = 'FoodImages/'\n",
    "training_file_names = []\n",
    "training_food_labels = []\n",
    "for i in range(0, len(foods)):\n",
    "    sub_path = path + 'Train/' + foods[i] + '/'\n",
    "    sub_file_names = [os.path.join(sub_path, f) for f in os.listdir(sub_path)]\n",
    "    sub_food_labels = [i] * len(sub_file_names) #create a list of N elements, all are i\n",
    "    training_file_names += sub_file_names\n",
    "    training_food_labels += sub_food_labels\n",
    "    \n",
    "print(training_file_names)\n",
    "print(training_food_labels)   \n"
   ]
  },
  {
   "cell_type": "markdown",
   "id": "68dcbc7c",
   "metadata": {},
   "source": [
    "**We are now ready for building the BoW model for our food recognition problem. Suppose that we want to have 50 words in our dictionary (though this number can vary). We name our dictionary 'food' and define it as:**"
   ]
  },
  {
   "cell_type": "code",
   "execution_count": 3,
   "id": "c6727291",
   "metadata": {},
   "outputs": [],
   "source": [
    "num_words = 50\n",
    "dictionary_name = 'food'\n",
    "dictionary = Dictionary(dictionary_name, training_file_names, num_words)"
   ]
  },
  {
   "cell_type": "markdown",
   "id": "c14211b5",
   "metadata": {},
   "source": [
    "**We learn the dictionary, i.e., finding words, by calling the learn method as below. The learn method not only extracts words from a training dataset but also creates the word histograms for all the training images in the training set.**"
   ]
  },
  {
   "cell_type": "code",
   "execution_count": 4,
   "id": "d1146e01",
   "metadata": {},
   "outputs": [],
   "source": [
    "training_word_histograms = dictionary.learn()"
   ]
  },
  {
   "cell_type": "code",
   "execution_count": 5,
   "id": "298858e6",
   "metadata": {},
   "outputs": [],
   "source": [
    "import pickle\n",
    "#save dictionary\n",
    "with open('food_dictionary.dic', 'wb') as f:  #'wb' is for binary write\n",
    "    pickle.dump(dictionary, f)"
   ]
  },
  {
   "cell_type": "code",
   "execution_count": 6,
   "id": "325b0c7d",
   "metadata": {},
   "outputs": [],
   "source": [
    "import pickle #you may not need to import it if this has been done\n",
    "with open('food_dictionary.dic', 'rb') as f:  #'rb' is for binary read\n",
    "    dictionary = pickle.load(f)"
   ]
  },
  {
   "cell_type": "markdown",
   "id": "47d0305a",
   "metadata": {},
   "source": [
    "## 2. k-NN ##"
   ]
  },
  {
   "cell_type": "markdown",
   "id": "f39a6877",
   "metadata": {},
   "source": [
    "**We will apply k-NN for food image recognition**"
   ]
  },
  {
   "cell_type": "code",
   "execution_count": 7,
   "id": "cbf98d35",
   "metadata": {},
   "outputs": [
    {
     "data": {
      "text/plain": [
       "KNeighborsClassifier(algorithm='auto', leaf_size=30, metric='minkowski',\n",
       "           metric_params=None, n_jobs=None, n_neighbors=5, p=2,\n",
       "           weights='uniform')"
      ]
     },
     "execution_count": 7,
     "metadata": {},
     "output_type": "execute_result"
    }
   ],
   "source": [
    "num_nearest_neighbours = 5 #number of neighbours\n",
    "\n",
    "from sklearn.neighbors import KNeighborsClassifier\n",
    "knn = KNeighborsClassifier(n_neighbors = num_nearest_neighbours)\n",
    "knn.fit(training_word_histograms, training_food_labels)"
   ]
  },
  {
   "cell_type": "code",
   "execution_count": 8,
   "id": "ae318918",
   "metadata": {},
   "outputs": [
    {
     "name": "stdout",
     "output_type": "stream",
     "text": [
      "Food label:  [1]\n"
     ]
    }
   ],
   "source": [
    "test_file_names = ['FoodImages/Test/Pasta/pasta35.jpg']\n",
    "word_histograms = dictionary.create_word_histograms(test_file_names)\n",
    "\n",
    "predicted_food_labels = knn.predict(word_histograms)\n",
    "print('Food label: ', predicted_food_labels)"
   ]
  },
  {
   "cell_type": "code",
   "execution_count": 9,
   "id": "d0ecd430",
   "metadata": {},
   "outputs": [
    {
     "name": "stdout",
     "output_type": "stream",
     "text": [
      "['FoodImages/Test/Cakes/cake31.jpg', 'FoodImages/Test/Cakes/cake32.jpg', 'FoodImages/Test/Cakes/cake33.jpg', 'FoodImages/Test/Cakes/cake34.jpg', 'FoodImages/Test/Cakes/cake35.jpg', 'FoodImages/Test/Cakes/cake36.jpg', 'FoodImages/Test/Cakes/cake37.jpg', 'FoodImages/Test/Cakes/cake38.jpg', 'FoodImages/Test/Cakes/cake39.jpg', 'FoodImages/Test/Cakes/cake40.jpg', 'FoodImages/Test/Cakes/cake41.jpg', 'FoodImages/Test/Cakes/cake42.jpg', 'FoodImages/Test/Cakes/cake43.jpg', 'FoodImages/Test/Cakes/cake44.jpg', 'FoodImages/Test/Cakes/cake45.jpg', 'FoodImages/Test/Cakes/cake46.jpg', 'FoodImages/Test/Cakes/cake47.jpg', 'FoodImages/Test/Cakes/cake48.jpg', 'FoodImages/Test/Cakes/cake49.jpg', 'FoodImages/Test/Cakes/cake50.jpg', 'FoodImages/Test/Cakes/cake51.jpg', 'FoodImages/Test/Cakes/cake52.jpg', 'FoodImages/Test/Cakes/cake53.jpg', 'FoodImages/Test/Cakes/cake54.jpg', 'FoodImages/Test/Cakes/cake55.jpg', 'FoodImages/Test/Cakes/cake56.jpg', 'FoodImages/Test/Cakes/cake57.jpg', 'FoodImages/Test/Cakes/cake58.jpg', 'FoodImages/Test/Cakes/cake59.jpg', 'FoodImages/Test/Cakes/cake60.jpg', 'FoodImages/Test/Pasta/pasta31.jpg', 'FoodImages/Test/Pasta/pasta32.jpg', 'FoodImages/Test/Pasta/pasta33.jpg', 'FoodImages/Test/Pasta/pasta34.jpg', 'FoodImages/Test/Pasta/pasta35.jpg', 'FoodImages/Test/Pasta/pasta36.jpg', 'FoodImages/Test/Pasta/pasta37.jpg', 'FoodImages/Test/Pasta/pasta38.jpg', 'FoodImages/Test/Pasta/pasta39.jpg', 'FoodImages/Test/Pasta/pasta40.jpg', 'FoodImages/Test/Pasta/pasta41.jpg', 'FoodImages/Test/Pasta/pasta42.jpg', 'FoodImages/Test/Pasta/pasta43.jpg', 'FoodImages/Test/Pasta/pasta44.jpg', 'FoodImages/Test/Pasta/pasta45.jpg', 'FoodImages/Test/Pasta/pasta46.jpg', 'FoodImages/Test/Pasta/pasta47.jpg', 'FoodImages/Test/Pasta/pasta48.jpg', 'FoodImages/Test/Pasta/pasta49.jpg', 'FoodImages/Test/Pasta/pasta50.jpg', 'FoodImages/Test/Pasta/pasta51.jpg', 'FoodImages/Test/Pasta/pasta52.jpg', 'FoodImages/Test/Pasta/pasta53.jpg', 'FoodImages/Test/Pasta/pasta54.jpg', 'FoodImages/Test/Pasta/pasta55.jpg', 'FoodImages/Test/Pasta/pasta56.jpg', 'FoodImages/Test/Pasta/pasta57.jpg', 'FoodImages/Test/Pasta/pasta58.jpg', 'FoodImages/Test/Pasta/pasta59.jpg', 'FoodImages/Test/Pasta/pasta60.jpg', 'FoodImages/Test/Pizza/pizza31.jpg', 'FoodImages/Test/Pizza/pizza32.jpg', 'FoodImages/Test/Pizza/pizza33.jpg', 'FoodImages/Test/Pizza/pizza34.jpg', 'FoodImages/Test/Pizza/pizza35.jpg', 'FoodImages/Test/Pizza/pizza36.jpg', 'FoodImages/Test/Pizza/pizza37.jpg', 'FoodImages/Test/Pizza/pizza38.jpg', 'FoodImages/Test/Pizza/pizza39.jpg', 'FoodImages/Test/Pizza/pizza40.jpg', 'FoodImages/Test/Pizza/pizza41.jpg', 'FoodImages/Test/Pizza/pizza42.jpg', 'FoodImages/Test/Pizza/pizza43.jpg', 'FoodImages/Test/Pizza/pizza44.jpg', 'FoodImages/Test/Pizza/pizza45.jpg', 'FoodImages/Test/Pizza/pizza46.jpg', 'FoodImages/Test/Pizza/pizza47.jpg', 'FoodImages/Test/Pizza/pizza48.jpg', 'FoodImages/Test/Pizza/pizza49.jpg', 'FoodImages/Test/Pizza/pizza50.jpg', 'FoodImages/Test/Pizza/pizza51.jpg', 'FoodImages/Test/Pizza/pizza52.jpg', 'FoodImages/Test/Pizza/pizza53.jpg', 'FoodImages/Test/Pizza/pizza54.jpg', 'FoodImages/Test/Pizza/pizza55.jpg', 'FoodImages/Test/Pizza/pizza56.jpg', 'FoodImages/Test/Pizza/pizza57.png', 'FoodImages/Test/Pizza/pizza58.png', 'FoodImages/Test/Pizza/pizza59.png', 'FoodImages/Test/Pizza/pizza60.jpg']\n",
      "[0, 0, 0, 0, 0, 0, 0, 0, 0, 0, 0, 0, 0, 0, 0, 0, 0, 0, 0, 0, 0, 0, 0, 0, 0, 0, 0, 0, 0, 0, 1, 1, 1, 1, 1, 1, 1, 1, 1, 1, 1, 1, 1, 1, 1, 1, 1, 1, 1, 1, 1, 1, 1, 1, 1, 1, 1, 1, 1, 1, 2, 2, 2, 2, 2, 2, 2, 2, 2, 2, 2, 2, 2, 2, 2, 2, 2, 2, 2, 2, 2, 2, 2, 2, 2, 2, 2, 2, 2, 2]\n"
     ]
    }
   ],
   "source": [
    "foods = ['Cakes', 'Pasta', 'Pizza']\n",
    "path = 'FoodImages/'\n",
    "test_file_names = []\n",
    "test_food_labels = []\n",
    "for i in range(0, len(foods)):\n",
    "    sub_path = path + 'Test/' + foods[i] + '/'\n",
    "    sub_file_names = [os.path.join(sub_path, f) for f in os.listdir(sub_path)]\n",
    "    sub_food_labels = [i] * len(sub_file_names) #create a list of N elements, all are i\n",
    "    test_file_names += sub_file_names\n",
    "    test_food_labels += sub_food_labels\n",
    "    \n",
    "print(test_file_names)\n",
    "print(test_food_labels)  "
   ]
  },
  {
   "cell_type": "code",
   "execution_count": 10,
   "id": "05782722",
   "metadata": {},
   "outputs": [
    {
     "name": "stdout",
     "output_type": "stream",
     "text": [
      "Food label:  [0 0 0 2 2 0 0 0 1 0 0 2 2 2 2 1 0 0 2 0 0 2 1 0 1 2 0 2 0 1 1 1 1 2 1 1 1\n",
      " 1 1 2 1 1 1 1 1 1 1 1 1 1 1 1 1 1 1 1 1 1 1 1 2 1 2 1 1 2 2 2 1 2 2 2 2 2\n",
      " 2 2 2 2 2 2 2 2 1 2 2 2 2 2 2 1]\n"
     ]
    }
   ],
   "source": [
    "word_histograms = dictionary.create_word_histograms(test_file_names)\n",
    "\n",
    "predicted_food_labels = knn.predict(word_histograms)\n",
    "print('Food label: ', predicted_food_labels)"
   ]
  },
  {
   "cell_type": "code",
   "execution_count": 12,
   "id": "451a496c",
   "metadata": {},
   "outputs": [
    {
     "name": "stdout",
     "output_type": "stream",
     "text": [
      "[[15  5 10]\n",
      " [ 0 28  2]\n",
      " [ 0  6 24]]\n",
      "              precision    recall  f1-score   support\n",
      "\n",
      "           0       1.00      0.50      0.67        30\n",
      "           1       0.72      0.93      0.81        30\n",
      "           2       0.67      0.80      0.73        30\n",
      "\n",
      "   micro avg       0.74      0.74      0.74        90\n",
      "   macro avg       0.79      0.74      0.74        90\n",
      "weighted avg       0.79      0.74      0.74        90\n",
      "\n",
      "Accuracy: 0.7444444444444445\n"
     ]
    }
   ],
   "source": [
    "from sklearn.metrics import classification_report,confusion_matrix, accuracy_score\n",
    "\n",
    "print(confusion_matrix(test_food_labels, predicted_food_labels))\n",
    "print(classification_report(test_food_labels, predicted_food_labels))\n",
    "print(\"Accuracy:\", accuracy_score(test_food_labels, predicted_food_labels))"
   ]
  },
  {
   "cell_type": "markdown",
   "id": "dba379fb",
   "metadata": {},
   "source": [
    "### Vary num_nearest_neighbours in the range [10, 15, 20, 25, 30] and measure the corresponding accuracies. ###"
   ]
  },
  {
   "cell_type": "code",
   "execution_count": 13,
   "id": "83ebcebc",
   "metadata": {},
   "outputs": [
    {
     "data": {
      "text/plain": [
       "KNeighborsClassifier(algorithm='auto', leaf_size=30, metric='minkowski',\n",
       "           metric_params=None, n_jobs=None, n_neighbors=10, p=2,\n",
       "           weights='uniform')"
      ]
     },
     "execution_count": 13,
     "metadata": {},
     "output_type": "execute_result"
    }
   ],
   "source": [
    "num_nearest_neighbours = 10 #number of neighbours\n",
    "\n",
    "knn = KNeighborsClassifier(n_neighbors = num_nearest_neighbours)\n",
    "knn.fit(training_word_histograms, training_food_labels)"
   ]
  },
  {
   "cell_type": "code",
   "execution_count": 14,
   "id": "7ae80f47",
   "metadata": {},
   "outputs": [
    {
     "name": "stdout",
     "output_type": "stream",
     "text": [
      "Food label:  [0 0 0 2 2 0 0 0 1 0 0 1 1 2 0 2 0 0 2 1 0 2 1 0 1 2 0 2 0 2 1 2 1 2 1 1 1\n",
      " 1 1 2 1 1 1 1 1 1 1 1 1 1 1 1 1 1 1 1 1 1 1 1 2 1 2 2 1 2 2 2 1 2 1 2 2 2\n",
      " 2 2 2 2 2 2 1 2 1 2 2 2 2 1 1 1]\n"
     ]
    }
   ],
   "source": [
    "word_histograms = dictionary.create_word_histograms(test_file_names)\n",
    "\n",
    "predicted_food_labels = knn.predict(word_histograms)\n",
    "print('Food label: ', predicted_food_labels)"
   ]
  },
  {
   "cell_type": "code",
   "execution_count": 15,
   "id": "47526e8d",
   "metadata": {},
   "outputs": [
    {
     "name": "stdout",
     "output_type": "stream",
     "text": [
      "[[15  6  9]\n",
      " [ 0 27  3]\n",
      " [ 0  9 21]]\n",
      "              precision    recall  f1-score   support\n",
      "\n",
      "           0       1.00      0.50      0.67        30\n",
      "           1       0.64      0.90      0.75        30\n",
      "           2       0.64      0.70      0.67        30\n",
      "\n",
      "   micro avg       0.70      0.70      0.70        90\n",
      "   macro avg       0.76      0.70      0.69        90\n",
      "weighted avg       0.76      0.70      0.69        90\n",
      "\n",
      "Accuracy: 0.7\n"
     ]
    }
   ],
   "source": [
    "print(confusion_matrix(test_food_labels, predicted_food_labels))\n",
    "print(classification_report(test_food_labels, predicted_food_labels))\n",
    "print(\"Accuracy:\", accuracy_score(test_food_labels, predicted_food_labels))"
   ]
  },
  {
   "cell_type": "code",
   "execution_count": 16,
   "id": "a2dc79f2",
   "metadata": {},
   "outputs": [
    {
     "data": {
      "text/plain": [
       "KNeighborsClassifier(algorithm='auto', leaf_size=30, metric='minkowski',\n",
       "           metric_params=None, n_jobs=None, n_neighbors=15, p=2,\n",
       "           weights='uniform')"
      ]
     },
     "execution_count": 16,
     "metadata": {},
     "output_type": "execute_result"
    }
   ],
   "source": [
    "num_nearest_neighbours = 15 #number of neighbours\n",
    "\n",
    "knn = KNeighborsClassifier(n_neighbors = num_nearest_neighbours)\n",
    "knn.fit(training_word_histograms, training_food_labels)"
   ]
  },
  {
   "cell_type": "code",
   "execution_count": 17,
   "id": "725ebea4",
   "metadata": {},
   "outputs": [
    {
     "name": "stdout",
     "output_type": "stream",
     "text": [
      "Food label:  [0 0 0 2 2 0 0 0 1 0 0 1 1 2 0 2 0 0 2 1 0 2 1 0 1 2 0 2 0 2 1 2 1 2 1 1 1\n",
      " 1 1 2 1 1 1 1 1 1 1 1 1 1 1 1 1 1 1 1 1 1 1 1 2 1 2 2 1 2 2 2 1 2 1 2 1 2\n",
      " 2 2 2 2 2 1 2 2 1 2 2 2 2 1 2 1]\n"
     ]
    }
   ],
   "source": [
    "word_histograms = dictionary.create_word_histograms(test_file_names)\n",
    "\n",
    "predicted_food_labels = knn.predict(word_histograms)\n",
    "print('Food label: ', predicted_food_labels)"
   ]
  },
  {
   "cell_type": "code",
   "execution_count": 18,
   "id": "7f49623a",
   "metadata": {},
   "outputs": [
    {
     "name": "stdout",
     "output_type": "stream",
     "text": [
      "[[15  6  9]\n",
      " [ 0 27  3]\n",
      " [ 0  9 21]]\n",
      "              precision    recall  f1-score   support\n",
      "\n",
      "           0       1.00      0.50      0.67        30\n",
      "           1       0.64      0.90      0.75        30\n",
      "           2       0.64      0.70      0.67        30\n",
      "\n",
      "   micro avg       0.70      0.70      0.70        90\n",
      "   macro avg       0.76      0.70      0.69        90\n",
      "weighted avg       0.76      0.70      0.69        90\n",
      "\n",
      "Accuracy: 0.7\n"
     ]
    }
   ],
   "source": [
    "print(confusion_matrix(test_food_labels, predicted_food_labels))\n",
    "print(classification_report(test_food_labels, predicted_food_labels))\n",
    "print(\"Accuracy:\", accuracy_score(test_food_labels, predicted_food_labels))"
   ]
  },
  {
   "cell_type": "code",
   "execution_count": 19,
   "id": "d770a171",
   "metadata": {},
   "outputs": [
    {
     "data": {
      "text/plain": [
       "KNeighborsClassifier(algorithm='auto', leaf_size=30, metric='minkowski',\n",
       "           metric_params=None, n_jobs=None, n_neighbors=20, p=2,\n",
       "           weights='uniform')"
      ]
     },
     "execution_count": 19,
     "metadata": {},
     "output_type": "execute_result"
    }
   ],
   "source": [
    "num_nearest_neighbours = 20 #number of neighbours\n",
    "\n",
    "knn = KNeighborsClassifier(n_neighbors = num_nearest_neighbours)\n",
    "knn.fit(training_word_histograms, training_food_labels)"
   ]
  },
  {
   "cell_type": "code",
   "execution_count": 20,
   "id": "0f0a0fd6",
   "metadata": {},
   "outputs": [
    {
     "name": "stdout",
     "output_type": "stream",
     "text": [
      "Food label:  [0 0 0 2 1 0 0 0 1 0 0 1 1 2 2 1 0 0 2 1 0 2 1 2 2 2 0 2 1 2 1 2 1 2 1 1 1\n",
      " 1 1 2 1 1 1 1 1 1 1 1 1 1 1 1 1 1 1 1 1 1 1 1 2 1 2 2 1 2 2 2 1 2 2 1 2 2\n",
      " 2 2 2 2 2 1 2 2 1 2 2 2 2 1 1 1]\n"
     ]
    }
   ],
   "source": [
    "word_histograms = dictionary.create_word_histograms(test_file_names)\n",
    "\n",
    "predicted_food_labels = knn.predict(word_histograms)\n",
    "print('Food label: ', predicted_food_labels)"
   ]
  },
  {
   "cell_type": "code",
   "execution_count": 21,
   "id": "171875ee",
   "metadata": {},
   "outputs": [
    {
     "name": "stdout",
     "output_type": "stream",
     "text": [
      "[[12  8 10]\n",
      " [ 0 27  3]\n",
      " [ 0  9 21]]\n",
      "              precision    recall  f1-score   support\n",
      "\n",
      "           0       1.00      0.40      0.57        30\n",
      "           1       0.61      0.90      0.73        30\n",
      "           2       0.62      0.70      0.66        30\n",
      "\n",
      "   micro avg       0.67      0.67      0.67        90\n",
      "   macro avg       0.74      0.67      0.65        90\n",
      "weighted avg       0.74      0.67      0.65        90\n",
      "\n",
      "Accuracy: 0.6666666666666666\n"
     ]
    }
   ],
   "source": [
    "print(confusion_matrix(test_food_labels, predicted_food_labels))\n",
    "print(classification_report(test_food_labels, predicted_food_labels))\n",
    "print(\"Accuracy:\", accuracy_score(test_food_labels, predicted_food_labels))"
   ]
  },
  {
   "cell_type": "code",
   "execution_count": 22,
   "id": "0df3927d",
   "metadata": {},
   "outputs": [
    {
     "data": {
      "text/plain": [
       "KNeighborsClassifier(algorithm='auto', leaf_size=30, metric='minkowski',\n",
       "           metric_params=None, n_jobs=None, n_neighbors=25, p=2,\n",
       "           weights='uniform')"
      ]
     },
     "execution_count": 22,
     "metadata": {},
     "output_type": "execute_result"
    }
   ],
   "source": [
    "num_nearest_neighbours = 25 #number of neighbours\n",
    "\n",
    "knn = KNeighborsClassifier(n_neighbors = num_nearest_neighbours)\n",
    "knn.fit(training_word_histograms, training_food_labels)"
   ]
  },
  {
   "cell_type": "code",
   "execution_count": 23,
   "id": "9de9f483",
   "metadata": {},
   "outputs": [
    {
     "name": "stdout",
     "output_type": "stream",
     "text": [
      "Food label:  [0 0 0 2 1 0 0 0 1 0 0 1 2 2 2 1 0 0 2 1 0 2 1 2 1 2 0 2 1 2 1 2 1 2 1 1 1\n",
      " 1 1 2 1 1 1 1 1 1 1 1 1 1 1 1 1 1 1 1 1 1 1 1 2 1 2 2 1 2 2 2 1 2 2 1 2 2\n",
      " 1 2 2 2 2 1 2 2 1 2 2 2 2 1 1 1]\n"
     ]
    }
   ],
   "source": [
    "word_histograms = dictionary.create_word_histograms(test_file_names)\n",
    "\n",
    "predicted_food_labels = knn.predict(word_histograms)\n",
    "print('Food label: ', predicted_food_labels)"
   ]
  },
  {
   "cell_type": "code",
   "execution_count": 24,
   "id": "0d36e589",
   "metadata": {},
   "outputs": [
    {
     "name": "stdout",
     "output_type": "stream",
     "text": [
      "[[12  8 10]\n",
      " [ 0 27  3]\n",
      " [ 0 10 20]]\n",
      "              precision    recall  f1-score   support\n",
      "\n",
      "           0       1.00      0.40      0.57        30\n",
      "           1       0.60      0.90      0.72        30\n",
      "           2       0.61      0.67      0.63        30\n",
      "\n",
      "   micro avg       0.66      0.66      0.66        90\n",
      "   macro avg       0.74      0.66      0.64        90\n",
      "weighted avg       0.74      0.66      0.64        90\n",
      "\n",
      "Accuracy: 0.6555555555555556\n"
     ]
    }
   ],
   "source": [
    "print(confusion_matrix(test_food_labels, predicted_food_labels))\n",
    "print(classification_report(test_food_labels, predicted_food_labels))\n",
    "print(\"Accuracy:\", accuracy_score(test_food_labels, predicted_food_labels))"
   ]
  },
  {
   "cell_type": "code",
   "execution_count": 25,
   "id": "8a01acf9",
   "metadata": {},
   "outputs": [
    {
     "data": {
      "text/plain": [
       "KNeighborsClassifier(algorithm='auto', leaf_size=30, metric='minkowski',\n",
       "           metric_params=None, n_jobs=None, n_neighbors=30, p=2,\n",
       "           weights='uniform')"
      ]
     },
     "execution_count": 25,
     "metadata": {},
     "output_type": "execute_result"
    }
   ],
   "source": [
    "num_nearest_neighbours = 30 #number of neighbours\n",
    "\n",
    "knn = KNeighborsClassifier(n_neighbors = num_nearest_neighbours)\n",
    "knn.fit(training_word_histograms, training_food_labels)"
   ]
  },
  {
   "cell_type": "code",
   "execution_count": 26,
   "id": "c438e7fd",
   "metadata": {},
   "outputs": [
    {
     "name": "stdout",
     "output_type": "stream",
     "text": [
      "Food label:  [2 0 0 2 1 2 0 0 1 1 2 1 2 2 2 1 0 0 2 1 0 2 1 2 1 2 0 2 1 2 1 2 1 2 1 1 1\n",
      " 1 1 2 1 1 2 1 1 1 1 1 1 1 2 1 1 1 1 1 1 1 1 1 2 1 2 2 2 2 2 2 1 2 2 1 1 2\n",
      " 1 2 2 2 2 2 2 2 1 2 2 2 2 1 1 1]\n"
     ]
    }
   ],
   "source": [
    "word_histograms = dictionary.create_word_histograms(test_file_names)\n",
    "\n",
    "predicted_food_labels = knn.predict(word_histograms)\n",
    "print('Food label: ', predicted_food_labels)"
   ]
  },
  {
   "cell_type": "code",
   "execution_count": 27,
   "id": "2819016d",
   "metadata": {},
   "outputs": [
    {
     "name": "stdout",
     "output_type": "stream",
     "text": [
      "[[ 8  9 13]\n",
      " [ 0 25  5]\n",
      " [ 0  9 21]]\n",
      "              precision    recall  f1-score   support\n",
      "\n",
      "           0       1.00      0.27      0.42        30\n",
      "           1       0.58      0.83      0.68        30\n",
      "           2       0.54      0.70      0.61        30\n",
      "\n",
      "   micro avg       0.60      0.60      0.60        90\n",
      "   macro avg       0.71      0.60      0.57        90\n",
      "weighted avg       0.71      0.60      0.57        90\n",
      "\n",
      "Accuracy: 0.6\n"
     ]
    }
   ],
   "source": [
    "print(confusion_matrix(test_food_labels, predicted_food_labels))\n",
    "print(classification_report(test_food_labels, predicted_food_labels))\n",
    "print(\"Accuracy:\", accuracy_score(test_food_labels, predicted_food_labels))"
   ]
  },
  {
   "cell_type": "markdown",
   "id": "dc9b7355",
   "metadata": {},
   "source": [
    "#### Now we have trained our algorithm and made some predictions. For classification, some commonly used metrics are ‘confusion matrix’, ‘accuracy score’, ‘precision’, ‘recall’ & ‘F1-score or F-measure’ which can be used using the Scikit-learn ‘metric’ library (accuracy_score, confusion_matrix, classification_report). ####\n",
    "\n",
    "#### Sensitivity or Recall: The proportion of actual positive cases which are correctly identified. ####\n",
    "\n",
    "#### F1-Score (or F-Measure) is the Harmonic Mean between precision and recall. The range for F1 Score is [0, 1]. It tells you how precise your classifier is (how many instances it classifies correctly), as well as how robust it is. ####"
   ]
  },
  {
   "cell_type": "markdown",
   "id": "14a15ddf",
   "metadata": {},
   "source": [
    "**We can see that the best value for 'num_nearest_neighbours' in this case is '5', where we found that the accuracy is 74.44% precision is 79%, recall is 74% and F-1 score is 0.74. As we increase the value of 'num_nearest_neighbours', the accuracy decreases.**"
   ]
  },
  {
   "cell_type": "markdown",
   "id": "af03759d",
   "metadata": {},
   "source": [
    "## 3. SVM ##"
   ]
  },
  {
   "cell_type": "markdown",
   "id": "1b9e9fc5",
   "metadata": {},
   "source": [
    "**We will use linear SVM to classify food images**"
   ]
  },
  {
   "cell_type": "code",
   "execution_count": 28,
   "id": "47a35c87",
   "metadata": {},
   "outputs": [],
   "source": [
    "with open('food_dictionary.dic', 'rb') as f:  #'rb' is for binary read\n",
    "    dictionary = pickle.load(f)"
   ]
  },
  {
   "cell_type": "code",
   "execution_count": 29,
   "id": "dc1602d7",
   "metadata": {},
   "outputs": [
    {
     "name": "stdout",
     "output_type": "stream",
     "text": [
      "['FoodImages/Train/Cakes/cake1.png', 'FoodImages/Train/Cakes/cake10.jpg', 'FoodImages/Train/Cakes/cake11.jpg', 'FoodImages/Train/Cakes/cake12.jpg', 'FoodImages/Train/Cakes/cake13.jpg', 'FoodImages/Train/Cakes/cake14.jpg', 'FoodImages/Train/Cakes/cake15.jpg', 'FoodImages/Train/Cakes/cake16.jpg', 'FoodImages/Train/Cakes/cake17.jpg', 'FoodImages/Train/Cakes/cake18.jpg', 'FoodImages/Train/Cakes/cake19.jpg', 'FoodImages/Train/Cakes/cake2.png', 'FoodImages/Train/Cakes/cake20.jpg', 'FoodImages/Train/Cakes/cake21.jpg', 'FoodImages/Train/Cakes/cake22.jpg', 'FoodImages/Train/Cakes/cake23.jpg', 'FoodImages/Train/Cakes/cake24.jpg', 'FoodImages/Train/Cakes/cake25.jpg', 'FoodImages/Train/Cakes/cake26.jpg', 'FoodImages/Train/Cakes/cake27.jpg', 'FoodImages/Train/Cakes/cake28.jpg', 'FoodImages/Train/Cakes/cake29.jpg', 'FoodImages/Train/Cakes/cake3.png', 'FoodImages/Train/Cakes/cake30.jpg', 'FoodImages/Train/Cakes/cake4.jpg', 'FoodImages/Train/Cakes/cake5.jpg', 'FoodImages/Train/Cakes/cake6.jpg', 'FoodImages/Train/Cakes/cake7.jpg', 'FoodImages/Train/Cakes/cake8.jpg', 'FoodImages/Train/Cakes/cake9.jpg', 'FoodImages/Train/Pasta/pasta1.jpg', 'FoodImages/Train/Pasta/pasta10.jpg', 'FoodImages/Train/Pasta/pasta11.jpg', 'FoodImages/Train/Pasta/pasta12.jpg', 'FoodImages/Train/Pasta/pasta13.jpg', 'FoodImages/Train/Pasta/pasta14.jpg', 'FoodImages/Train/Pasta/pasta15.jpg', 'FoodImages/Train/Pasta/pasta16.jpg', 'FoodImages/Train/Pasta/pasta17.jpg', 'FoodImages/Train/Pasta/pasta18.jpg', 'FoodImages/Train/Pasta/pasta19.jpg', 'FoodImages/Train/Pasta/pasta2.jpg', 'FoodImages/Train/Pasta/pasta20.jpg', 'FoodImages/Train/Pasta/pasta21.png', 'FoodImages/Train/Pasta/pasta22.png', 'FoodImages/Train/Pasta/pasta23.png', 'FoodImages/Train/Pasta/pasta24.png', 'FoodImages/Train/Pasta/pasta25.png', 'FoodImages/Train/Pasta/pasta26.png', 'FoodImages/Train/Pasta/pasta27.png', 'FoodImages/Train/Pasta/pasta28.png', 'FoodImages/Train/Pasta/pasta29.jpg', 'FoodImages/Train/Pasta/pasta3.jpg', 'FoodImages/Train/Pasta/pasta30.jpg', 'FoodImages/Train/Pasta/pasta4.jpg', 'FoodImages/Train/Pasta/pasta5.jpg', 'FoodImages/Train/Pasta/pasta6.jpg', 'FoodImages/Train/Pasta/pasta7.jpg', 'FoodImages/Train/Pasta/pasta8.jpg', 'FoodImages/Train/Pasta/pasta9.jpg', 'FoodImages/Train/Pizza/pizza1.png', 'FoodImages/Train/Pizza/pizza10.jpg', 'FoodImages/Train/Pizza/pizza11.jpg', 'FoodImages/Train/Pizza/pizza12.jpg', 'FoodImages/Train/Pizza/pizza13.jpg', 'FoodImages/Train/Pizza/pizza14.jpg', 'FoodImages/Train/Pizza/pizza15.jpg', 'FoodImages/Train/Pizza/pizza16.jpg', 'FoodImages/Train/Pizza/pizza17.jpg', 'FoodImages/Train/Pizza/pizza18.jpg', 'FoodImages/Train/Pizza/pizza19.jpg', 'FoodImages/Train/Pizza/pizza2.jpg', 'FoodImages/Train/Pizza/pizza20.jpg', 'FoodImages/Train/Pizza/pizza21.jpg', 'FoodImages/Train/Pizza/pizza22.jpg', 'FoodImages/Train/Pizza/pizza23.jpg', 'FoodImages/Train/Pizza/pizza24.jpg', 'FoodImages/Train/Pizza/pizza25.jpg', 'FoodImages/Train/Pizza/pizza26.jpg', 'FoodImages/Train/Pizza/pizza27.jpg', 'FoodImages/Train/Pizza/pizza28.jpg', 'FoodImages/Train/Pizza/pizza29.jpg', 'FoodImages/Train/Pizza/pizza3.jpg', 'FoodImages/Train/Pizza/pizza30.jpg', 'FoodImages/Train/Pizza/pizza4.jpg', 'FoodImages/Train/Pizza/pizza5.jpg', 'FoodImages/Train/Pizza/pizza6.jpg', 'FoodImages/Train/Pizza/pizza7.jpg', 'FoodImages/Train/Pizza/pizza8.jpg', 'FoodImages/Train/Pizza/pizza9.jpg']\n",
      "[0, 0, 0, 0, 0, 0, 0, 0, 0, 0, 0, 0, 0, 0, 0, 0, 0, 0, 0, 0, 0, 0, 0, 0, 0, 0, 0, 0, 0, 0, 1, 1, 1, 1, 1, 1, 1, 1, 1, 1, 1, 1, 1, 1, 1, 1, 1, 1, 1, 1, 1, 1, 1, 1, 1, 1, 1, 1, 1, 1, 2, 2, 2, 2, 2, 2, 2, 2, 2, 2, 2, 2, 2, 2, 2, 2, 2, 2, 2, 2, 2, 2, 2, 2, 2, 2, 2, 2, 2, 2]\n"
     ]
    }
   ],
   "source": [
    "import os\n",
    "\n",
    "foods = ['Cakes', 'Pasta', 'Pizza']\n",
    "path = 'FoodImages/'\n",
    "training_file_names = []\n",
    "training_food_labels = []\n",
    "for i in range(0, len(foods)):\n",
    "    sub_path = path + 'Train/' + foods[i] + '/'\n",
    "    sub_file_names = [os.path.join(sub_path, f) for f in os.listdir(sub_path)]\n",
    "    sub_food_labels = [i] * len(sub_file_names) #create a list of N elements, all are i\n",
    "    training_file_names += sub_file_names\n",
    "    training_food_labels += sub_food_labels\n",
    "    \n",
    "print(training_file_names)\n",
    "print(training_food_labels)   "
   ]
  },
  {
   "cell_type": "code",
   "execution_count": 30,
   "id": "f7a2b2ed",
   "metadata": {},
   "outputs": [
    {
     "data": {
      "text/plain": [
       "SVC(C=50, cache_size=200, class_weight=None, coef0=0.0,\n",
       "  decision_function_shape='ovr', degree=3, gamma='auto_deprecated',\n",
       "  kernel='linear', max_iter=-1, probability=False, random_state=None,\n",
       "  shrinking=True, tol=0.001, verbose=False)"
      ]
     },
     "execution_count": 30,
     "metadata": {},
     "output_type": "execute_result"
    }
   ],
   "source": [
    "from sklearn import svm\n",
    "svm_classifier = svm.SVC(C = 50, kernel = 'linear') \n",
    "svm_classifier.fit(training_word_histograms, training_food_labels)"
   ]
  },
  {
   "cell_type": "code",
   "execution_count": 31,
   "id": "a75d0033",
   "metadata": {},
   "outputs": [
    {
     "name": "stdout",
     "output_type": "stream",
     "text": [
      "Food label:  [1]\n"
     ]
    }
   ],
   "source": [
    "test_file_names = ['FoodImages/Test/Pasta/pasta35.jpg']\n",
    "word_histograms = dictionary.create_word_histograms(test_file_names)\n",
    "\n",
    "predicted_food_labels = svm_classifier.predict(word_histograms)\n",
    "print('Food label: ', predicted_food_labels)"
   ]
  },
  {
   "cell_type": "code",
   "execution_count": 32,
   "id": "d205afa2",
   "metadata": {},
   "outputs": [
    {
     "name": "stdout",
     "output_type": "stream",
     "text": [
      "['FoodImages/Test/Cakes/cake31.jpg', 'FoodImages/Test/Cakes/cake32.jpg', 'FoodImages/Test/Cakes/cake33.jpg', 'FoodImages/Test/Cakes/cake34.jpg', 'FoodImages/Test/Cakes/cake35.jpg', 'FoodImages/Test/Cakes/cake36.jpg', 'FoodImages/Test/Cakes/cake37.jpg', 'FoodImages/Test/Cakes/cake38.jpg', 'FoodImages/Test/Cakes/cake39.jpg', 'FoodImages/Test/Cakes/cake40.jpg', 'FoodImages/Test/Cakes/cake41.jpg', 'FoodImages/Test/Cakes/cake42.jpg', 'FoodImages/Test/Cakes/cake43.jpg', 'FoodImages/Test/Cakes/cake44.jpg', 'FoodImages/Test/Cakes/cake45.jpg', 'FoodImages/Test/Cakes/cake46.jpg', 'FoodImages/Test/Cakes/cake47.jpg', 'FoodImages/Test/Cakes/cake48.jpg', 'FoodImages/Test/Cakes/cake49.jpg', 'FoodImages/Test/Cakes/cake50.jpg', 'FoodImages/Test/Cakes/cake51.jpg', 'FoodImages/Test/Cakes/cake52.jpg', 'FoodImages/Test/Cakes/cake53.jpg', 'FoodImages/Test/Cakes/cake54.jpg', 'FoodImages/Test/Cakes/cake55.jpg', 'FoodImages/Test/Cakes/cake56.jpg', 'FoodImages/Test/Cakes/cake57.jpg', 'FoodImages/Test/Cakes/cake58.jpg', 'FoodImages/Test/Cakes/cake59.jpg', 'FoodImages/Test/Cakes/cake60.jpg', 'FoodImages/Test/Pasta/pasta31.jpg', 'FoodImages/Test/Pasta/pasta32.jpg', 'FoodImages/Test/Pasta/pasta33.jpg', 'FoodImages/Test/Pasta/pasta34.jpg', 'FoodImages/Test/Pasta/pasta35.jpg', 'FoodImages/Test/Pasta/pasta36.jpg', 'FoodImages/Test/Pasta/pasta37.jpg', 'FoodImages/Test/Pasta/pasta38.jpg', 'FoodImages/Test/Pasta/pasta39.jpg', 'FoodImages/Test/Pasta/pasta40.jpg', 'FoodImages/Test/Pasta/pasta41.jpg', 'FoodImages/Test/Pasta/pasta42.jpg', 'FoodImages/Test/Pasta/pasta43.jpg', 'FoodImages/Test/Pasta/pasta44.jpg', 'FoodImages/Test/Pasta/pasta45.jpg', 'FoodImages/Test/Pasta/pasta46.jpg', 'FoodImages/Test/Pasta/pasta47.jpg', 'FoodImages/Test/Pasta/pasta48.jpg', 'FoodImages/Test/Pasta/pasta49.jpg', 'FoodImages/Test/Pasta/pasta50.jpg', 'FoodImages/Test/Pasta/pasta51.jpg', 'FoodImages/Test/Pasta/pasta52.jpg', 'FoodImages/Test/Pasta/pasta53.jpg', 'FoodImages/Test/Pasta/pasta54.jpg', 'FoodImages/Test/Pasta/pasta55.jpg', 'FoodImages/Test/Pasta/pasta56.jpg', 'FoodImages/Test/Pasta/pasta57.jpg', 'FoodImages/Test/Pasta/pasta58.jpg', 'FoodImages/Test/Pasta/pasta59.jpg', 'FoodImages/Test/Pasta/pasta60.jpg', 'FoodImages/Test/Pizza/pizza31.jpg', 'FoodImages/Test/Pizza/pizza32.jpg', 'FoodImages/Test/Pizza/pizza33.jpg', 'FoodImages/Test/Pizza/pizza34.jpg', 'FoodImages/Test/Pizza/pizza35.jpg', 'FoodImages/Test/Pizza/pizza36.jpg', 'FoodImages/Test/Pizza/pizza37.jpg', 'FoodImages/Test/Pizza/pizza38.jpg', 'FoodImages/Test/Pizza/pizza39.jpg', 'FoodImages/Test/Pizza/pizza40.jpg', 'FoodImages/Test/Pizza/pizza41.jpg', 'FoodImages/Test/Pizza/pizza42.jpg', 'FoodImages/Test/Pizza/pizza43.jpg', 'FoodImages/Test/Pizza/pizza44.jpg', 'FoodImages/Test/Pizza/pizza45.jpg', 'FoodImages/Test/Pizza/pizza46.jpg', 'FoodImages/Test/Pizza/pizza47.jpg', 'FoodImages/Test/Pizza/pizza48.jpg', 'FoodImages/Test/Pizza/pizza49.jpg', 'FoodImages/Test/Pizza/pizza50.jpg', 'FoodImages/Test/Pizza/pizza51.jpg', 'FoodImages/Test/Pizza/pizza52.jpg', 'FoodImages/Test/Pizza/pizza53.jpg', 'FoodImages/Test/Pizza/pizza54.jpg', 'FoodImages/Test/Pizza/pizza55.jpg', 'FoodImages/Test/Pizza/pizza56.jpg', 'FoodImages/Test/Pizza/pizza57.png', 'FoodImages/Test/Pizza/pizza58.png', 'FoodImages/Test/Pizza/pizza59.png', 'FoodImages/Test/Pizza/pizza60.jpg']\n",
      "[0, 0, 0, 0, 0, 0, 0, 0, 0, 0, 0, 0, 0, 0, 0, 0, 0, 0, 0, 0, 0, 0, 0, 0, 0, 0, 0, 0, 0, 0, 1, 1, 1, 1, 1, 1, 1, 1, 1, 1, 1, 1, 1, 1, 1, 1, 1, 1, 1, 1, 1, 1, 1, 1, 1, 1, 1, 1, 1, 1, 2, 2, 2, 2, 2, 2, 2, 2, 2, 2, 2, 2, 2, 2, 2, 2, 2, 2, 2, 2, 2, 2, 2, 2, 2, 2, 2, 2, 2, 2]\n"
     ]
    }
   ],
   "source": [
    "foods = ['Cakes', 'Pasta', 'Pizza']\n",
    "path = 'FoodImages/'\n",
    "test_file_names = []\n",
    "test_food_labels = []\n",
    "for i in range(0, len(foods)):\n",
    "    sub_path = path + 'Test/' + foods[i] + '/'\n",
    "    sub_file_names = [os.path.join(sub_path, f) for f in os.listdir(sub_path)]\n",
    "    sub_food_labels = [i] * len(sub_file_names) #create a list of N elements, all are i\n",
    "    test_file_names += sub_file_names\n",
    "    test_food_labels += sub_food_labels\n",
    "    \n",
    "print(test_file_names)\n",
    "print(test_food_labels)  "
   ]
  },
  {
   "cell_type": "code",
   "execution_count": 33,
   "id": "100241a5",
   "metadata": {},
   "outputs": [
    {
     "name": "stdout",
     "output_type": "stream",
     "text": [
      "Food label:  [0 0 0 0 0 0 0 0 1 0 0 1 0 0 0 0 0 0 0 0 0 2 0 0 0 0 0 0 0 0 1 2 2 2 1 1 1\n",
      " 1 1 2 1 1 2 1 1 1 1 1 1 1 2 1 1 1 1 1 1 1 1 1 2 1 0 2 2 2 2 2 1 2 2 1 2 2\n",
      " 2 2 2 2 2 2 2 2 2 2 2 2 2 2 2 1]\n"
     ]
    }
   ],
   "source": [
    "word_histograms = dictionary.create_word_histograms(test_file_names)\n",
    "\n",
    "predicted_food_labels = svm_classifier.predict(word_histograms)\n",
    "print('Food label: ', predicted_food_labels)"
   ]
  },
  {
   "cell_type": "code",
   "execution_count": 34,
   "id": "5d6b9ec7",
   "metadata": {},
   "outputs": [
    {
     "name": "stdout",
     "output_type": "stream",
     "text": [
      "[[27  2  1]\n",
      " [ 0 24  6]\n",
      " [ 1  4 25]]\n",
      "              precision    recall  f1-score   support\n",
      "\n",
      "           0       0.96      0.90      0.93        30\n",
      "           1       0.80      0.80      0.80        30\n",
      "           2       0.78      0.83      0.81        30\n",
      "\n",
      "   micro avg       0.84      0.84      0.84        90\n",
      "   macro avg       0.85      0.84      0.85        90\n",
      "weighted avg       0.85      0.84      0.85        90\n",
      "\n",
      "Accuracy: 0.8444444444444444\n"
     ]
    }
   ],
   "source": [
    "print(confusion_matrix(test_food_labels, predicted_food_labels))\n",
    "print(classification_report(test_food_labels, predicted_food_labels))\n",
    "print(\"Accuracy:\", accuracy_score(test_food_labels, predicted_food_labels))"
   ]
  },
  {
   "cell_type": "markdown",
   "id": "d57ad64a",
   "metadata": {},
   "source": [
    "### Vary C in the range [10, 20, 30, 40, 50] and measure the corresponding accuracies. ###"
   ]
  },
  {
   "cell_type": "code",
   "execution_count": 35,
   "id": "1aa5191f",
   "metadata": {},
   "outputs": [
    {
     "data": {
      "text/plain": [
       "SVC(C=10, cache_size=200, class_weight=None, coef0=0.0,\n",
       "  decision_function_shape='ovr', degree=3, gamma='auto_deprecated',\n",
       "  kernel='linear', max_iter=-1, probability=False, random_state=None,\n",
       "  shrinking=True, tol=0.001, verbose=False)"
      ]
     },
     "execution_count": 35,
     "metadata": {},
     "output_type": "execute_result"
    }
   ],
   "source": [
    "svm_classifier = svm.SVC(C = 10, kernel = 'linear')\n",
    "svm_classifier.fit(training_word_histograms, training_food_labels)"
   ]
  },
  {
   "cell_type": "code",
   "execution_count": 36,
   "id": "b3cff462",
   "metadata": {},
   "outputs": [
    {
     "name": "stdout",
     "output_type": "stream",
     "text": [
      "Food label:  [0 0 0 0 0 0 0 0 1 0 0 1 2 0 0 2 0 0 0 0 0 2 0 0 0 2 0 0 0 0 1 2 2 2 1 1 1\n",
      " 1 1 2 1 1 2 1 1 1 1 1 1 1 2 1 1 1 1 1 2 1 1 1 2 1 0 2 2 2 2 2 1 2 2 1 1 2\n",
      " 1 2 2 2 2 2 2 2 1 2 2 2 2 1 2 1]\n"
     ]
    }
   ],
   "source": [
    "word_histograms = dictionary.create_word_histograms(test_file_names)\n",
    "\n",
    "predicted_food_labels = svm_classifier.predict(word_histograms)\n",
    "print('Food label: ', predicted_food_labels)"
   ]
  },
  {
   "cell_type": "code",
   "execution_count": 37,
   "id": "9335f901",
   "metadata": {},
   "outputs": [
    {
     "name": "stdout",
     "output_type": "stream",
     "text": [
      "[[24  2  4]\n",
      " [ 0 23  7]\n",
      " [ 1  8 21]]\n",
      "              precision    recall  f1-score   support\n",
      "\n",
      "           0       0.96      0.80      0.87        30\n",
      "           1       0.70      0.77      0.73        30\n",
      "           2       0.66      0.70      0.68        30\n",
      "\n",
      "   micro avg       0.76      0.76      0.76        90\n",
      "   macro avg       0.77      0.76      0.76        90\n",
      "weighted avg       0.77      0.76      0.76        90\n",
      "\n",
      "Accuracy: 0.7555555555555555\n"
     ]
    }
   ],
   "source": [
    "print(confusion_matrix(test_food_labels, predicted_food_labels))\n",
    "print(classification_report(test_food_labels, predicted_food_labels))\n",
    "print(\"Accuracy:\", accuracy_score(test_food_labels, predicted_food_labels))"
   ]
  },
  {
   "cell_type": "code",
   "execution_count": 38,
   "id": "3c5777e9",
   "metadata": {},
   "outputs": [
    {
     "data": {
      "text/plain": [
       "SVC(C=20, cache_size=200, class_weight=None, coef0=0.0,\n",
       "  decision_function_shape='ovr', degree=3, gamma='auto_deprecated',\n",
       "  kernel='linear', max_iter=-1, probability=False, random_state=None,\n",
       "  shrinking=True, tol=0.001, verbose=False)"
      ]
     },
     "execution_count": 38,
     "metadata": {},
     "output_type": "execute_result"
    }
   ],
   "source": [
    "svm_classifier = svm.SVC(C = 20, kernel = 'linear')\n",
    "svm_classifier.fit(training_word_histograms, training_food_labels)"
   ]
  },
  {
   "cell_type": "code",
   "execution_count": 39,
   "id": "3ba46584",
   "metadata": {},
   "outputs": [
    {
     "name": "stdout",
     "output_type": "stream",
     "text": [
      "Food label:  [0 0 0 0 0 0 0 0 1 0 0 1 0 0 0 0 0 0 0 0 0 2 0 0 0 2 0 0 0 0 1 2 2 2 1 1 1\n",
      " 1 1 2 1 1 2 1 1 1 1 1 1 1 2 1 1 1 1 1 2 1 1 1 2 1 0 2 2 2 2 2 1 2 2 2 2 2\n",
      " 2 2 2 2 2 2 2 2 1 2 2 2 2 1 2 1]\n"
     ]
    }
   ],
   "source": [
    "word_histograms = dictionary.create_word_histograms(test_file_names)\n",
    "\n",
    "predicted_food_labels = svm_classifier.predict(word_histograms)\n",
    "print('Food label: ', predicted_food_labels)"
   ]
  },
  {
   "cell_type": "code",
   "execution_count": 40,
   "id": "c062ce9d",
   "metadata": {},
   "outputs": [
    {
     "name": "stdout",
     "output_type": "stream",
     "text": [
      "[[26  2  2]\n",
      " [ 0 23  7]\n",
      " [ 1  5 24]]\n",
      "              precision    recall  f1-score   support\n",
      "\n",
      "           0       0.96      0.87      0.91        30\n",
      "           1       0.77      0.77      0.77        30\n",
      "           2       0.73      0.80      0.76        30\n",
      "\n",
      "   micro avg       0.81      0.81      0.81        90\n",
      "   macro avg       0.82      0.81      0.81        90\n",
      "weighted avg       0.82      0.81      0.81        90\n",
      "\n",
      "Accuracy: 0.8111111111111111\n"
     ]
    }
   ],
   "source": [
    "print(confusion_matrix(test_food_labels, predicted_food_labels))\n",
    "print(classification_report(test_food_labels, predicted_food_labels))\n",
    "print(\"Accuracy:\", accuracy_score(test_food_labels, predicted_food_labels))"
   ]
  },
  {
   "cell_type": "code",
   "execution_count": 41,
   "id": "da0e09c5",
   "metadata": {},
   "outputs": [
    {
     "data": {
      "text/plain": [
       "SVC(C=30, cache_size=200, class_weight=None, coef0=0.0,\n",
       "  decision_function_shape='ovr', degree=3, gamma='auto_deprecated',\n",
       "  kernel='linear', max_iter=-1, probability=False, random_state=None,\n",
       "  shrinking=True, tol=0.001, verbose=False)"
      ]
     },
     "execution_count": 41,
     "metadata": {},
     "output_type": "execute_result"
    }
   ],
   "source": [
    "svm_classifier = svm.SVC(C = 30, kernel = 'linear')\n",
    "svm_classifier.fit(training_word_histograms, training_food_labels)"
   ]
  },
  {
   "cell_type": "code",
   "execution_count": 42,
   "id": "ee5e4c25",
   "metadata": {},
   "outputs": [
    {
     "name": "stdout",
     "output_type": "stream",
     "text": [
      "Food label:  [0 0 0 0 0 0 0 0 1 0 0 1 0 0 0 0 0 0 0 0 0 2 0 0 0 2 0 0 0 0 1 2 2 2 1 1 1\n",
      " 1 1 2 1 1 2 1 1 1 1 1 1 1 2 1 1 1 1 1 2 1 1 1 2 1 0 2 2 2 2 2 1 2 2 1 2 2\n",
      " 2 2 2 2 2 2 2 2 2 2 2 2 2 2 2 1]\n"
     ]
    }
   ],
   "source": [
    "word_histograms = dictionary.create_word_histograms(test_file_names)\n",
    "\n",
    "predicted_food_labels = svm_classifier.predict(word_histograms)\n",
    "print('Food label: ', predicted_food_labels)"
   ]
  },
  {
   "cell_type": "code",
   "execution_count": 43,
   "id": "5ebea098",
   "metadata": {},
   "outputs": [
    {
     "name": "stdout",
     "output_type": "stream",
     "text": [
      "[[26  2  2]\n",
      " [ 0 23  7]\n",
      " [ 1  4 25]]\n",
      "              precision    recall  f1-score   support\n",
      "\n",
      "           0       0.96      0.87      0.91        30\n",
      "           1       0.79      0.77      0.78        30\n",
      "           2       0.74      0.83      0.78        30\n",
      "\n",
      "   micro avg       0.82      0.82      0.82        90\n",
      "   macro avg       0.83      0.82      0.82        90\n",
      "weighted avg       0.83      0.82      0.82        90\n",
      "\n",
      "Accuracy: 0.8222222222222222\n"
     ]
    }
   ],
   "source": [
    "print(confusion_matrix(test_food_labels, predicted_food_labels))\n",
    "print(classification_report(test_food_labels, predicted_food_labels))\n",
    "print(\"Accuracy:\", accuracy_score(test_food_labels, predicted_food_labels))"
   ]
  },
  {
   "cell_type": "code",
   "execution_count": 44,
   "id": "247fb8a7",
   "metadata": {},
   "outputs": [
    {
     "data": {
      "text/plain": [
       "SVC(C=40, cache_size=200, class_weight=None, coef0=0.0,\n",
       "  decision_function_shape='ovr', degree=3, gamma='auto_deprecated',\n",
       "  kernel='linear', max_iter=-1, probability=False, random_state=None,\n",
       "  shrinking=True, tol=0.001, verbose=False)"
      ]
     },
     "execution_count": 44,
     "metadata": {},
     "output_type": "execute_result"
    }
   ],
   "source": [
    "svm_classifier = svm.SVC(C = 40, kernel = 'linear')\n",
    "svm_classifier.fit(training_word_histograms, training_food_labels)"
   ]
  },
  {
   "cell_type": "code",
   "execution_count": 45,
   "id": "848175a6",
   "metadata": {},
   "outputs": [
    {
     "name": "stdout",
     "output_type": "stream",
     "text": [
      "Food label:  [0 0 0 0 0 0 0 0 1 0 0 1 0 0 0 0 0 0 0 0 0 2 0 0 0 2 0 0 0 0 1 2 2 2 1 1 1\n",
      " 1 1 2 1 1 2 1 1 1 1 1 1 1 2 1 1 1 1 1 2 1 1 1 2 1 0 2 2 2 2 2 1 2 2 1 2 2\n",
      " 2 2 2 2 2 2 2 2 2 2 2 2 2 2 2 1]\n"
     ]
    }
   ],
   "source": [
    "word_histograms = dictionary.create_word_histograms(test_file_names)\n",
    "\n",
    "predicted_food_labels = svm_classifier.predict(word_histograms)\n",
    "print('Food label: ', predicted_food_labels)"
   ]
  },
  {
   "cell_type": "code",
   "execution_count": 46,
   "id": "6fa0ce6d",
   "metadata": {},
   "outputs": [
    {
     "name": "stdout",
     "output_type": "stream",
     "text": [
      "[[26  2  2]\n",
      " [ 0 23  7]\n",
      " [ 1  4 25]]\n",
      "              precision    recall  f1-score   support\n",
      "\n",
      "           0       0.96      0.87      0.91        30\n",
      "           1       0.79      0.77      0.78        30\n",
      "           2       0.74      0.83      0.78        30\n",
      "\n",
      "   micro avg       0.82      0.82      0.82        90\n",
      "   macro avg       0.83      0.82      0.82        90\n",
      "weighted avg       0.83      0.82      0.82        90\n",
      "\n",
      "Accuracy: 0.8222222222222222\n"
     ]
    }
   ],
   "source": [
    "print(confusion_matrix(test_food_labels, predicted_food_labels))\n",
    "print(classification_report(test_food_labels, predicted_food_labels))\n",
    "print(\"Accuracy:\", accuracy_score(test_food_labels, predicted_food_labels))"
   ]
  },
  {
   "cell_type": "markdown",
   "id": "2575f134",
   "metadata": {},
   "source": [
    "**We can see that the best value for 'C' in this case is '50', where we found that the accuracy is 84.44% precision is 85%, recall is 84% and F-1 score is 0.85. As we increase the value of 'C', the accuracy increases.**"
   ]
  },
  {
   "cell_type": "markdown",
   "id": "74af99c1",
   "metadata": {},
   "source": [
    "## 4. AdaBoost ##"
   ]
  },
  {
   "cell_type": "markdown",
   "id": "7d33f181",
   "metadata": {},
   "source": [
    "**We will use AdaBoost for food image recognition**"
   ]
  },
  {
   "cell_type": "code",
   "execution_count": 47,
   "id": "97fcc749",
   "metadata": {},
   "outputs": [],
   "source": [
    "with open('food_dictionary.dic', 'rb') as f:  #'rb' is for binary read\n",
    "    dictionary = pickle.load(f)"
   ]
  },
  {
   "cell_type": "code",
   "execution_count": 48,
   "id": "d1152b6b",
   "metadata": {},
   "outputs": [
    {
     "data": {
      "text/plain": [
       "AdaBoostClassifier(algorithm='SAMME.R', base_estimator=None,\n",
       "          learning_rate=1.0, n_estimators=150, random_state=0)"
      ]
     },
     "execution_count": 48,
     "metadata": {},
     "output_type": "execute_result"
    }
   ],
   "source": [
    "from sklearn.ensemble import AdaBoostClassifier\n",
    "adb_classifier = AdaBoostClassifier(n_estimators = 150, #weak classifiers\n",
    "                 random_state = 0)\n",
    "adb_classifier.fit(training_word_histograms, training_food_labels)"
   ]
  },
  {
   "cell_type": "code",
   "execution_count": 49,
   "id": "a91cdcea",
   "metadata": {},
   "outputs": [
    {
     "name": "stdout",
     "output_type": "stream",
     "text": [
      "Food label:  [1]\n"
     ]
    }
   ],
   "source": [
    "test_file_names = ['FoodImages/Test/Pasta/pasta35.jpg']\n",
    "word_histograms = dictionary.create_word_histograms(test_file_names)\n",
    "\n",
    "predicted_food_labels = adb_classifier.predict(word_histograms)\n",
    "print('Food label: ', predicted_food_labels)"
   ]
  },
  {
   "cell_type": "code",
   "execution_count": 50,
   "id": "e7cfbe8a",
   "metadata": {},
   "outputs": [
    {
     "name": "stdout",
     "output_type": "stream",
     "text": [
      "['FoodImages/Test/Cakes/cake31.jpg', 'FoodImages/Test/Cakes/cake32.jpg', 'FoodImages/Test/Cakes/cake33.jpg', 'FoodImages/Test/Cakes/cake34.jpg', 'FoodImages/Test/Cakes/cake35.jpg', 'FoodImages/Test/Cakes/cake36.jpg', 'FoodImages/Test/Cakes/cake37.jpg', 'FoodImages/Test/Cakes/cake38.jpg', 'FoodImages/Test/Cakes/cake39.jpg', 'FoodImages/Test/Cakes/cake40.jpg', 'FoodImages/Test/Cakes/cake41.jpg', 'FoodImages/Test/Cakes/cake42.jpg', 'FoodImages/Test/Cakes/cake43.jpg', 'FoodImages/Test/Cakes/cake44.jpg', 'FoodImages/Test/Cakes/cake45.jpg', 'FoodImages/Test/Cakes/cake46.jpg', 'FoodImages/Test/Cakes/cake47.jpg', 'FoodImages/Test/Cakes/cake48.jpg', 'FoodImages/Test/Cakes/cake49.jpg', 'FoodImages/Test/Cakes/cake50.jpg', 'FoodImages/Test/Cakes/cake51.jpg', 'FoodImages/Test/Cakes/cake52.jpg', 'FoodImages/Test/Cakes/cake53.jpg', 'FoodImages/Test/Cakes/cake54.jpg', 'FoodImages/Test/Cakes/cake55.jpg', 'FoodImages/Test/Cakes/cake56.jpg', 'FoodImages/Test/Cakes/cake57.jpg', 'FoodImages/Test/Cakes/cake58.jpg', 'FoodImages/Test/Cakes/cake59.jpg', 'FoodImages/Test/Cakes/cake60.jpg', 'FoodImages/Test/Pasta/pasta31.jpg', 'FoodImages/Test/Pasta/pasta32.jpg', 'FoodImages/Test/Pasta/pasta33.jpg', 'FoodImages/Test/Pasta/pasta34.jpg', 'FoodImages/Test/Pasta/pasta35.jpg', 'FoodImages/Test/Pasta/pasta36.jpg', 'FoodImages/Test/Pasta/pasta37.jpg', 'FoodImages/Test/Pasta/pasta38.jpg', 'FoodImages/Test/Pasta/pasta39.jpg', 'FoodImages/Test/Pasta/pasta40.jpg', 'FoodImages/Test/Pasta/pasta41.jpg', 'FoodImages/Test/Pasta/pasta42.jpg', 'FoodImages/Test/Pasta/pasta43.jpg', 'FoodImages/Test/Pasta/pasta44.jpg', 'FoodImages/Test/Pasta/pasta45.jpg', 'FoodImages/Test/Pasta/pasta46.jpg', 'FoodImages/Test/Pasta/pasta47.jpg', 'FoodImages/Test/Pasta/pasta48.jpg', 'FoodImages/Test/Pasta/pasta49.jpg', 'FoodImages/Test/Pasta/pasta50.jpg', 'FoodImages/Test/Pasta/pasta51.jpg', 'FoodImages/Test/Pasta/pasta52.jpg', 'FoodImages/Test/Pasta/pasta53.jpg', 'FoodImages/Test/Pasta/pasta54.jpg', 'FoodImages/Test/Pasta/pasta55.jpg', 'FoodImages/Test/Pasta/pasta56.jpg', 'FoodImages/Test/Pasta/pasta57.jpg', 'FoodImages/Test/Pasta/pasta58.jpg', 'FoodImages/Test/Pasta/pasta59.jpg', 'FoodImages/Test/Pasta/pasta60.jpg', 'FoodImages/Test/Pizza/pizza31.jpg', 'FoodImages/Test/Pizza/pizza32.jpg', 'FoodImages/Test/Pizza/pizza33.jpg', 'FoodImages/Test/Pizza/pizza34.jpg', 'FoodImages/Test/Pizza/pizza35.jpg', 'FoodImages/Test/Pizza/pizza36.jpg', 'FoodImages/Test/Pizza/pizza37.jpg', 'FoodImages/Test/Pizza/pizza38.jpg', 'FoodImages/Test/Pizza/pizza39.jpg', 'FoodImages/Test/Pizza/pizza40.jpg', 'FoodImages/Test/Pizza/pizza41.jpg', 'FoodImages/Test/Pizza/pizza42.jpg', 'FoodImages/Test/Pizza/pizza43.jpg', 'FoodImages/Test/Pizza/pizza44.jpg', 'FoodImages/Test/Pizza/pizza45.jpg', 'FoodImages/Test/Pizza/pizza46.jpg', 'FoodImages/Test/Pizza/pizza47.jpg', 'FoodImages/Test/Pizza/pizza48.jpg', 'FoodImages/Test/Pizza/pizza49.jpg', 'FoodImages/Test/Pizza/pizza50.jpg', 'FoodImages/Test/Pizza/pizza51.jpg', 'FoodImages/Test/Pizza/pizza52.jpg', 'FoodImages/Test/Pizza/pizza53.jpg', 'FoodImages/Test/Pizza/pizza54.jpg', 'FoodImages/Test/Pizza/pizza55.jpg', 'FoodImages/Test/Pizza/pizza56.jpg', 'FoodImages/Test/Pizza/pizza57.png', 'FoodImages/Test/Pizza/pizza58.png', 'FoodImages/Test/Pizza/pizza59.png', 'FoodImages/Test/Pizza/pizza60.jpg']\n",
      "[0, 0, 0, 0, 0, 0, 0, 0, 0, 0, 0, 0, 0, 0, 0, 0, 0, 0, 0, 0, 0, 0, 0, 0, 0, 0, 0, 0, 0, 0, 1, 1, 1, 1, 1, 1, 1, 1, 1, 1, 1, 1, 1, 1, 1, 1, 1, 1, 1, 1, 1, 1, 1, 1, 1, 1, 1, 1, 1, 1, 2, 2, 2, 2, 2, 2, 2, 2, 2, 2, 2, 2, 2, 2, 2, 2, 2, 2, 2, 2, 2, 2, 2, 2, 2, 2, 2, 2, 2, 2]\n"
     ]
    }
   ],
   "source": [
    "foods = ['Cakes', 'Pasta', 'Pizza']\n",
    "path = 'FoodImages/'\n",
    "test_file_names = []\n",
    "test_food_labels = []\n",
    "for i in range(0, len(foods)):\n",
    "    sub_path = path + 'Test/' + foods[i] + '/'\n",
    "    sub_file_names = [os.path.join(sub_path, f) for f in os.listdir(sub_path)]\n",
    "    sub_food_labels = [i] * len(sub_file_names) #create a list of N elements, all are i\n",
    "    test_file_names += sub_file_names\n",
    "    test_food_labels += sub_food_labels\n",
    "    \n",
    "print(test_file_names)\n",
    "print(test_food_labels)  "
   ]
  },
  {
   "cell_type": "code",
   "execution_count": 51,
   "id": "902bb7ee",
   "metadata": {},
   "outputs": [
    {
     "name": "stdout",
     "output_type": "stream",
     "text": [
      "Food label:  [0 0 0 0 0 0 0 0 0 0 0 1 1 2 0 2 0 0 0 0 0 2 0 0 0 0 0 2 0 0 1 2 1 1 1 1 2\n",
      " 1 1 2 1 1 2 1 1 1 1 1 1 1 2 2 1 1 1 1 2 1 1 1 1 1 0 2 1 2 1 2 2 2 2 1 2 2\n",
      " 2 2 2 2 2 2 2 1 2 2 2 2 2 2 2 2]\n"
     ]
    }
   ],
   "source": [
    "word_histograms = dictionary.create_word_histograms(test_file_names)\n",
    "\n",
    "predicted_food_labels = adb_classifier.predict(word_histograms)\n",
    "print('Food label: ', predicted_food_labels)"
   ]
  },
  {
   "cell_type": "code",
   "execution_count": 52,
   "id": "1e905b87",
   "metadata": {},
   "outputs": [
    {
     "name": "stdout",
     "output_type": "stream",
     "text": [
      "[[24  2  4]\n",
      " [ 0 23  7]\n",
      " [ 1  6 23]]\n",
      "              precision    recall  f1-score   support\n",
      "\n",
      "           0       0.96      0.80      0.87        30\n",
      "           1       0.74      0.77      0.75        30\n",
      "           2       0.68      0.77      0.72        30\n",
      "\n",
      "   micro avg       0.78      0.78      0.78        90\n",
      "   macro avg       0.79      0.78      0.78        90\n",
      "weighted avg       0.79      0.78      0.78        90\n",
      "\n",
      "Accuracy: 0.7777777777777778\n"
     ]
    }
   ],
   "source": [
    "print(confusion_matrix(test_food_labels, predicted_food_labels))\n",
    "print(classification_report(test_food_labels, predicted_food_labels))\n",
    "print(\"Accuracy:\", accuracy_score(test_food_labels, predicted_food_labels))"
   ]
  },
  {
   "cell_type": "markdown",
   "id": "ab60c920",
   "metadata": {},
   "source": [
    "### Vary n_estimators in the range [50, 100, 150, 200, 250] and measure the corresponding accuracies. ###"
   ]
  },
  {
   "cell_type": "code",
   "execution_count": 53,
   "id": "307d2981",
   "metadata": {},
   "outputs": [
    {
     "data": {
      "text/plain": [
       "AdaBoostClassifier(algorithm='SAMME.R', base_estimator=None,\n",
       "          learning_rate=1.0, n_estimators=50, random_state=0)"
      ]
     },
     "execution_count": 53,
     "metadata": {},
     "output_type": "execute_result"
    }
   ],
   "source": [
    "adb_classifier = AdaBoostClassifier(n_estimators = 50, #weak classifiers\n",
    "                 random_state = 0)\n",
    "adb_classifier.fit(training_word_histograms, training_food_labels)"
   ]
  },
  {
   "cell_type": "code",
   "execution_count": 54,
   "id": "b838c666",
   "metadata": {},
   "outputs": [
    {
     "name": "stdout",
     "output_type": "stream",
     "text": [
      "Food label:  [0 0 0 1 0 0 0 0 0 0 0 1 2 0 0 2 0 0 0 0 0 2 0 0 0 0 2 2 0 0 2 1 1 2 2 1 2\n",
      " 2 2 2 1 1 2 1 1 1 1 2 1 2 1 1 1 1 1 1 1 1 1 1 2 1 2 2 2 2 2 2 2 2 2 2 1 1\n",
      " 1 2 2 2 2 2 2 1 1 2 2 2 2 2 2 2]\n"
     ]
    }
   ],
   "source": [
    "word_histograms = dictionary.create_word_histograms(test_file_names)\n",
    "\n",
    "predicted_food_labels = adb_classifier.predict(word_histograms)\n",
    "print('Food label: ', predicted_food_labels)"
   ]
  },
  {
   "cell_type": "code",
   "execution_count": 55,
   "id": "aa75e0ad",
   "metadata": {},
   "outputs": [
    {
     "name": "stdout",
     "output_type": "stream",
     "text": [
      "[[23  2  5]\n",
      " [ 0 20 10]\n",
      " [ 0  6 24]]\n",
      "              precision    recall  f1-score   support\n",
      "\n",
      "           0       1.00      0.77      0.87        30\n",
      "           1       0.71      0.67      0.69        30\n",
      "           2       0.62      0.80      0.70        30\n",
      "\n",
      "   micro avg       0.74      0.74      0.74        90\n",
      "   macro avg       0.78      0.74      0.75        90\n",
      "weighted avg       0.78      0.74      0.75        90\n",
      "\n",
      "Accuracy: 0.7444444444444445\n"
     ]
    }
   ],
   "source": [
    "print(confusion_matrix(test_food_labels, predicted_food_labels))\n",
    "print(classification_report(test_food_labels, predicted_food_labels))\n",
    "print(\"Accuracy:\", accuracy_score(test_food_labels, predicted_food_labels))"
   ]
  },
  {
   "cell_type": "code",
   "execution_count": 56,
   "id": "6803ceae",
   "metadata": {},
   "outputs": [
    {
     "data": {
      "text/plain": [
       "AdaBoostClassifier(algorithm='SAMME.R', base_estimator=None,\n",
       "          learning_rate=1.0, n_estimators=100, random_state=0)"
      ]
     },
     "execution_count": 56,
     "metadata": {},
     "output_type": "execute_result"
    }
   ],
   "source": [
    "adb_classifier = AdaBoostClassifier(n_estimators = 100, #weak classifiers\n",
    "                 random_state = 0)\n",
    "adb_classifier.fit(training_word_histograms, training_food_labels)"
   ]
  },
  {
   "cell_type": "code",
   "execution_count": 57,
   "id": "bf4f7e09",
   "metadata": {},
   "outputs": [
    {
     "name": "stdout",
     "output_type": "stream",
     "text": [
      "Food label:  [0 0 0 0 0 0 0 0 0 0 0 1 1 2 0 2 0 0 0 0 0 2 0 0 0 0 0 2 0 0 2 1 1 1 2 1 2\n",
      " 2 2 2 1 1 2 1 1 1 1 1 1 2 1 1 1 1 1 1 1 1 1 1 2 1 0 2 1 2 2 2 2 2 2 2 1 1\n",
      " 1 2 2 2 2 2 1 1 1 2 2 2 2 2 2 2]\n"
     ]
    }
   ],
   "source": [
    "word_histograms = dictionary.create_word_histograms(test_file_names)\n",
    "\n",
    "predicted_food_labels = adb_classifier.predict(word_histograms)\n",
    "print('Food label: ', predicted_food_labels)"
   ]
  },
  {
   "cell_type": "code",
   "execution_count": 58,
   "id": "57bba95b",
   "metadata": {},
   "outputs": [
    {
     "name": "stdout",
     "output_type": "stream",
     "text": [
      "[[24  2  4]\n",
      " [ 0 22  8]\n",
      " [ 1  8 21]]\n",
      "              precision    recall  f1-score   support\n",
      "\n",
      "           0       0.96      0.80      0.87        30\n",
      "           1       0.69      0.73      0.71        30\n",
      "           2       0.64      0.70      0.67        30\n",
      "\n",
      "   micro avg       0.74      0.74      0.74        90\n",
      "   macro avg       0.76      0.74      0.75        90\n",
      "weighted avg       0.76      0.74      0.75        90\n",
      "\n",
      "Accuracy: 0.7444444444444445\n"
     ]
    }
   ],
   "source": [
    "print(confusion_matrix(test_food_labels, predicted_food_labels))\n",
    "print(classification_report(test_food_labels, predicted_food_labels))\n",
    "print(\"Accuracy:\", accuracy_score(test_food_labels, predicted_food_labels))"
   ]
  },
  {
   "cell_type": "code",
   "execution_count": 59,
   "id": "b787f524",
   "metadata": {},
   "outputs": [
    {
     "data": {
      "text/plain": [
       "AdaBoostClassifier(algorithm='SAMME.R', base_estimator=None,\n",
       "          learning_rate=1.0, n_estimators=200, random_state=0)"
      ]
     },
     "execution_count": 59,
     "metadata": {},
     "output_type": "execute_result"
    }
   ],
   "source": [
    "adb_classifier = AdaBoostClassifier(n_estimators = 200, #weak classifiers\n",
    "                 random_state = 0)\n",
    "adb_classifier.fit(training_word_histograms, training_food_labels)"
   ]
  },
  {
   "cell_type": "code",
   "execution_count": 60,
   "id": "329948db",
   "metadata": {},
   "outputs": [
    {
     "name": "stdout",
     "output_type": "stream",
     "text": [
      "Food label:  [0 0 0 0 0 0 0 0 0 0 0 1 1 0 0 2 0 0 0 0 0 2 0 0 0 0 0 2 0 0 1 2 1 2 1 1 2\n",
      " 1 1 2 1 1 2 1 1 1 1 1 1 1 2 2 1 1 1 1 2 1 1 1 1 1 0 2 1 2 1 2 2 2 2 1 2 2\n",
      " 2 2 2 2 2 2 2 1 2 2 2 2 2 2 2 2]\n"
     ]
    }
   ],
   "source": [
    "word_histograms = dictionary.create_word_histograms(test_file_names)\n",
    "\n",
    "predicted_food_labels = adb_classifier.predict(word_histograms)\n",
    "print('Food label: ', predicted_food_labels)"
   ]
  },
  {
   "cell_type": "code",
   "execution_count": 61,
   "id": "429dbf68",
   "metadata": {},
   "outputs": [
    {
     "name": "stdout",
     "output_type": "stream",
     "text": [
      "[[25  2  3]\n",
      " [ 0 22  8]\n",
      " [ 1  6 23]]\n",
      "              precision    recall  f1-score   support\n",
      "\n",
      "           0       0.96      0.83      0.89        30\n",
      "           1       0.73      0.73      0.73        30\n",
      "           2       0.68      0.77      0.72        30\n",
      "\n",
      "   micro avg       0.78      0.78      0.78        90\n",
      "   macro avg       0.79      0.78      0.78        90\n",
      "weighted avg       0.79      0.78      0.78        90\n",
      "\n",
      "Accuracy: 0.7777777777777778\n"
     ]
    }
   ],
   "source": [
    "print(confusion_matrix(test_food_labels, predicted_food_labels))\n",
    "print(classification_report(test_food_labels, predicted_food_labels))\n",
    "print(\"Accuracy:\", accuracy_score(test_food_labels, predicted_food_labels))"
   ]
  },
  {
   "cell_type": "code",
   "execution_count": 62,
   "id": "7ec9cdc0",
   "metadata": {},
   "outputs": [
    {
     "data": {
      "text/plain": [
       "AdaBoostClassifier(algorithm='SAMME.R', base_estimator=None,\n",
       "          learning_rate=1.0, n_estimators=250, random_state=0)"
      ]
     },
     "execution_count": 62,
     "metadata": {},
     "output_type": "execute_result"
    }
   ],
   "source": [
    "adb_classifier = AdaBoostClassifier(n_estimators = 250, #weak classifiers\n",
    "                 random_state = 0)\n",
    "adb_classifier.fit(training_word_histograms, training_food_labels)"
   ]
  },
  {
   "cell_type": "code",
   "execution_count": 63,
   "id": "951653e4",
   "metadata": {},
   "outputs": [
    {
     "name": "stdout",
     "output_type": "stream",
     "text": [
      "Food label:  [0 0 0 0 0 0 0 0 0 0 0 1 1 2 0 2 0 0 0 0 0 2 0 0 0 0 0 2 0 0 1 2 2 1 1 1 2\n",
      " 1 1 2 1 1 2 1 1 1 1 1 1 1 2 2 1 1 1 1 2 1 1 1 2 1 0 2 1 2 1 2 2 2 2 2 2 2\n",
      " 2 2 2 2 2 2 2 2 2 2 2 2 2 2 2 2]\n"
     ]
    }
   ],
   "source": [
    "word_histograms = dictionary.create_word_histograms(test_file_names)\n",
    "\n",
    "predicted_food_labels = adb_classifier.predict(word_histograms)\n",
    "print('Food label: ', predicted_food_labels)"
   ]
  },
  {
   "cell_type": "code",
   "execution_count": 64,
   "id": "0c37d4a2",
   "metadata": {},
   "outputs": [
    {
     "name": "stdout",
     "output_type": "stream",
     "text": [
      "[[24  2  4]\n",
      " [ 0 22  8]\n",
      " [ 1  3 26]]\n",
      "              precision    recall  f1-score   support\n",
      "\n",
      "           0       0.96      0.80      0.87        30\n",
      "           1       0.81      0.73      0.77        30\n",
      "           2       0.68      0.87      0.76        30\n",
      "\n",
      "   micro avg       0.80      0.80      0.80        90\n",
      "   macro avg       0.82      0.80      0.80        90\n",
      "weighted avg       0.82      0.80      0.80        90\n",
      "\n",
      "Accuracy: 0.8\n"
     ]
    }
   ],
   "source": [
    "print(confusion_matrix(test_food_labels, predicted_food_labels))\n",
    "print(classification_report(test_food_labels, predicted_food_labels))\n",
    "print(\"Accuracy:\", accuracy_score(test_food_labels, predicted_food_labels))"
   ]
  },
  {
   "cell_type": "markdown",
   "id": "11e21b40",
   "metadata": {},
   "source": [
    "**We can see that the best value for 'n_estimators' in this case is '250', where we found that the accuracy is 80.00% precision is 82%, recall is 80% and F-1 score is 0.80. As we increase the value of 'n_estimators', the accuracy increases.**"
   ]
  },
  {
   "cell_type": "markdown",
   "id": "b7a62893",
   "metadata": {},
   "source": [
    "**In terms of classification algorithms defined here, SVM performed the best classification with an accuracy of 84.44% precision of 85%, recall of 84% and F-1 score of 0.85 which is very accurate.**"
   ]
  }
 ],
 "metadata": {
  "kernelspec": {
   "display_name": "Python 3",
   "language": "python",
   "name": "python3"
  },
  "language_info": {
   "codemirror_mode": {
    "name": "ipython",
    "version": 3
   },
   "file_extension": ".py",
   "mimetype": "text/x-python",
   "name": "python",
   "nbconvert_exporter": "python",
   "pygments_lexer": "ipython3",
   "version": "3.8.8"
  }
 },
 "nbformat": 4,
 "nbformat_minor": 5
}
